{
 "cells": [
  {
   "cell_type": "markdown",
   "metadata": {},
   "source": [
    "### Crear un fichero"
   ]
  },
  {
   "cell_type": "code",
   "execution_count": 2,
   "metadata": {},
   "outputs": [],
   "source": [
    "import numpy as np"
   ]
  },
  {
   "cell_type": "code",
   "execution_count": 2,
   "metadata": {},
   "outputs": [
    {
     "name": "stdout",
     "output_type": "stream",
     "text": [
      "[[12 46 85 37 63  8 79 96 36]\n",
      " [73 49 18 25 75 22 73 83 51]\n",
      " [49 92 12 40 25 14 90 43 20]\n",
      " [69 68 22 82 99 68 40 88 61]\n",
      " [42 58 52 93 18 30  0 53 87]\n",
      " [65 84 21 27 81  4 32 92 95]\n",
      " [57 17 83 26 75 49 83 41 40]\n",
      " [19 17 72 60 10 56 80 76 98]]\n"
     ]
    }
   ],
   "source": [
    "\"\"\" Después de tartar los datos, limpiar los datos, dejar como nos gusta para guardar en nuestro disco duro.\"\"\"\n",
    "# Soponendo que queremos guardar esta matriz f\n",
    "\n",
    "data = np.random.randint(0,100,size=(8,9), dtype=np.int32)\n",
    "\n",
    "print(data)"
   ]
  },
  {
   "cell_type": "markdown",
   "metadata": {},
   "source": [
    "##### Guardar en CSV (coma separate values)\n",
    "Guardar matriz en un fichero en que los datos son separados por coma"
   ]
  },
  {
   "cell_type": "code",
   "execution_count": 3,
   "metadata": {},
   "outputs": [],
   "source": [
    "# Guardar el array f en un csv\n",
    "\"\"\" sintaxi con 3 parametros: np.savetxt('nombre_archivo, variable_que_quiero_guardar, delimiter=',')\n",
    "Por defecto es utilizado la coma, pero hay casos que no funciona pues,\n",
    "pueden ser como separadores decimales y por eso es mejor punto y coma \"\"\"\n",
    "\n",
    "np.savetxt('file_data.csv', data, delimiter=';', fmt='%d')\n"
   ]
  },
  {
   "cell_type": "markdown",
   "metadata": {},
   "source": [
    "##### Cargar el contenido del csv\n"
   ]
  },
  {
   "cell_type": "code",
   "execution_count": 6,
   "metadata": {},
   "outputs": [
    {
     "name": "stdout",
     "output_type": "stream",
     "text": [
      "[[12 46 85 37 63  8 79 96 36]\n",
      " [73 49 18 25 75 22 73 83 51]\n",
      " [49 92 12 40 25 14 90 43 20]\n",
      " [69 68 22 82 99 68 40 88 61]\n",
      " [42 58 52 93 18 30  0 53 87]\n",
      " [65 84 21 27 81  4 32 92 95]\n",
      " [57 17 83 26 75 49 83 41 40]\n",
      " [19 17 72 60 10 56 80 76 98]]\n"
     ]
    }
   ],
   "source": [
    "# Cargar (importar) el contenido del csv en un array llamado file_data\n",
    "\n",
    "file_data = np.loadtxt('file_data.csv', delimiter=';', dtype=np.int32)\n",
    "print(file_data)"
   ]
  },
  {
   "cell_type": "markdown",
   "metadata": {},
   "source": [
    "##### Máscaras Booleanas\n",
    "Nos desvuelve según condicionales, o sea, funciona como un filter de los datos."
   ]
  },
  {
   "cell_type": "code",
   "execution_count": 7,
   "metadata": {},
   "outputs": [
    {
     "data": {
      "text/plain": [
       "array([[False, False,  True, False, False, False,  True,  True, False],\n",
       "       [False, False, False, False, False, False, False,  True, False],\n",
       "       [False,  True, False, False, False, False,  True, False, False],\n",
       "       [False, False, False,  True,  True, False, False,  True, False],\n",
       "       [False, False, False,  True, False, False, False, False,  True],\n",
       "       [False,  True, False, False,  True, False, False,  True,  True],\n",
       "       [False, False,  True, False, False, False,  True, False, False],\n",
       "       [False, False, False, False, False, False,  True,  True,  True]])"
      ]
     },
     "execution_count": 7,
     "metadata": {},
     "output_type": "execute_result"
    }
   ],
   "source": [
    "# Podemos generar una máscara booleana para filtrar los datos\n",
    "file_data > 75"
   ]
  },
  {
   "cell_type": "code",
   "execution_count": 10,
   "metadata": {},
   "outputs": [
    {
     "name": "stdout",
     "output_type": "stream",
     "text": [
      "[85 79 96 83 92 90 82 99 88 93 87 84 81 92 95 83 83 80 76 98]\n",
      "Shape: (20,)\n"
     ]
    }
   ],
   "source": [
    "# Esta máscara se puede aplicar a cualquier array\n",
    "result = file_data[file_data>75]\n",
    "print(result)\n",
    "print(\"Shape:\",result.shape)"
   ]
  },
  {
   "cell_type": "code",
   "execution_count": 15,
   "metadata": {},
   "outputs": [
    {
     "name": "stdout",
     "output_type": "stream",
     "text": [
      "[85 63 79 96 73 75 73 83 51 92 90 69 68 82 99 68 88 61 58 52 93 53 87 65\n",
      " 84 81 92 95 57 83 75 83 72 60 56 80 76 98]\n"
     ]
    }
   ],
   "source": [
    "mayores_50 = file_data > 50\n",
    "\n",
    "print(file_data[mayores_50])"
   ]
  },
  {
   "cell_type": "code",
   "execution_count": 29,
   "metadata": {},
   "outputs": [
    {
     "name": "stdout",
     "output_type": "stream",
     "text": [
      "[16 50 15 33 18  5]\n",
      "['Juan' 'Ana' 'Pedro' 'Luis' 'María' 'Pablo']\n",
      "[False  True False  True False False]\n"
     ]
    }
   ],
   "source": [
    "# Genera una lista de edades aleatorias\n",
    "edades = np.random.randint(0,65,size=6)\n",
    "# Personas\n",
    "personas = np.array(['Juan', 'Ana', 'Pedro', 'Luis', 'María', 'Pablo'])\n",
    "\n",
    "print(edades)\n",
    "print(personas)\n",
    "\n",
    "# Mayores de 18 años\n",
    "mayores_18 = edades > 18\n",
    "print(mayores_18)\n"
   ]
  },
  {
   "cell_type": "code",
   "execution_count": 30,
   "metadata": {},
   "outputs": [
    {
     "name": "stdout",
     "output_type": "stream",
     "text": [
      "['Ana' 'Luis']\n"
     ]
    }
   ],
   "source": [
    "# Aplicar la máscara a la lista de personas\n",
    "personas_mayores_18 = personas[mayores_18]\n",
    "print(personas_mayores_18)"
   ]
  },
  {
   "cell_type": "markdown",
   "metadata": {},
   "source": [
    "##### Any \n",
    "Si al menos hay algun dato que cumple la condición"
   ]
  },
  {
   "cell_type": "code",
   "execution_count": 32,
   "metadata": {},
   "outputs": [
    {
     "name": "stdout",
     "output_type": "stream",
     "text": [
      "[[12 46 85 37 63  8 79 96 36]\n",
      " [73 49 18 25 75 22 73 83 51]\n",
      " [49 92 12 40 25 14 90 43 20]\n",
      " [69 68 22 82 99 68 40 88 61]\n",
      " [42 58 52 93 18 30  0 53 87]\n",
      " [65 84 21 27 81  4 32 92 95]\n",
      " [57 17 83 26 75 49 83 41 40]\n",
      " [19 17 72 60 10 56 80 76 98]]\n",
      "\n",
      "Hay al menos un dato que cumple esta condicion: True\n"
     ]
    }
   ],
   "source": [
    "# También podemos ver si alguno de los elementos cumple una condición\n",
    "print(file_data)\n",
    "print(\"\\nHay al menos un dato que cumple esta condicion:\", np.any(file_data > 75))"
   ]
  },
  {
   "cell_type": "code",
   "execution_count": 37,
   "metadata": {},
   "outputs": [
    {
     "name": "stdout",
     "output_type": "stream",
     "text": [
      "Mayores que 80: [False  True  True  True  True False  True  True  True]\n",
      "Mayores que 90: [False  True False  True  True False False  True  True]\n"
     ]
    }
   ],
   "source": [
    "# Any indicando el axis=0 (columnas)\n",
    "# Devuelve un booleano de tamaño igual al nº de columnas\n",
    "column_mayores_80 = np.any(file_data > 80, axis=0)\n",
    "column_mayores_90 = np.any(file_data > 90, axis=0)\n",
    "print(\"Mayores que 80:\",column_mayores_80)\n",
    "print(\"Mayores que 90:\", column_mayores_90)"
   ]
  },
  {
   "cell_type": "code",
   "execution_count": 39,
   "metadata": {},
   "outputs": [
    {
     "data": {
      "text/plain": [
       "array([[46, 85, 37, 63, 79, 96, 36],\n",
       "       [49, 18, 25, 75, 73, 83, 51],\n",
       "       [92, 12, 40, 25, 90, 43, 20],\n",
       "       [68, 22, 82, 99, 40, 88, 61],\n",
       "       [58, 52, 93, 18,  0, 53, 87],\n",
       "       [84, 21, 27, 81, 32, 92, 95],\n",
       "       [17, 83, 26, 75, 83, 41, 40],\n",
       "       [17, 72, 60, 10, 80, 76, 98]])"
      ]
     },
     "execution_count": 39,
     "metadata": {},
     "output_type": "execute_result"
    }
   ],
   "source": [
    "# Me imprime solamente las columnas que es True, que hay mayores de 80.\n",
    "file_data[:,column_mayores_80]"
   ]
  },
  {
   "cell_type": "code",
   "execution_count": 40,
   "metadata": {},
   "outputs": [
    {
     "data": {
      "text/plain": [
       "array([[12, 46, 85, 37, 63,  8, 79, 96, 36],\n",
       "       [49, 92, 12, 40, 25, 14, 90, 43, 20],\n",
       "       [69, 68, 22, 82, 99, 68, 40, 88, 61],\n",
       "       [42, 58, 52, 93, 18, 30,  0, 53, 87],\n",
       "       [65, 84, 21, 27, 81,  4, 32, 92, 95],\n",
       "       [19, 17, 72, 60, 10, 56, 80, 76, 98]])"
      ]
     },
     "execution_count": 40,
     "metadata": {},
     "output_type": "execute_result"
    }
   ],
   "source": [
    "# Podemos hacer lo mismo pelo en las filas axis=1\n",
    "filas_mayores_80 = np.any(file_data > 80, axis=1)\n",
    "filas_mayores_90 = np.any(file_data > 90, axis=1)\n",
    "\n",
    "file_data[filas_mayores_90,:]"
   ]
  },
  {
   "cell_type": "code",
   "execution_count": 43,
   "metadata": {},
   "outputs": [
    {
     "data": {
      "text/plain": [
       "array([[46, 37, 63, 96, 36],\n",
       "       [49, 25, 75, 83, 51],\n",
       "       [92, 40, 25, 43, 20],\n",
       "       [68, 82, 99, 88, 61],\n",
       "       [58, 93, 18, 53, 87],\n",
       "       [84, 27, 81, 92, 95],\n",
       "       [17, 26, 75, 41, 40],\n",
       "       [17, 60, 10, 76, 98]])"
      ]
     },
     "execution_count": 43,
     "metadata": {},
     "output_type": "execute_result"
    }
   ],
   "source": [
    "# Filtrar los datos de las filas que tengan valores mayores que 80\n",
    "f1 = file_data[filas_mayores_80,:]\n",
    "#Sobre ese resultado filtrar las columnas que tengam valores mayores que 90\n",
    "col_mayores_90 = np.any(f1>90, axis=0)\n",
    "f1[:,col_mayores_90]"
   ]
  },
  {
   "cell_type": "code",
   "execution_count": 46,
   "metadata": {},
   "outputs": [
    {
     "name": "stdout",
     "output_type": "stream",
     "text": [
      "[ True  True  True False  True False  True  True]\n"
     ]
    },
    {
     "data": {
      "text/plain": [
       "array([[12, 46, 85, 37, 63,  8, 79, 96, 36],\n",
       "       [73, 49, 18, 25, 75, 22, 73, 83, 51],\n",
       "       [49, 92, 12, 40, 25, 14, 90, 43, 20],\n",
       "       [42, 58, 52, 93, 18, 30,  0, 53, 87],\n",
       "       [57, 17, 83, 26, 75, 49, 83, 41, 40],\n",
       "       [19, 17, 72, 60, 10, 56, 80, 76, 98]])"
      ]
     },
     "execution_count": 46,
     "metadata": {},
     "output_type": "execute_result"
    }
   ],
   "source": [
    "# Se puede anidar estas funciones para acotar un dato por ejemplo\n",
    "\n",
    "mask = np.any( (file_data> 40) & (file_data < 60), axis=1)\n",
    "print(mask)\n",
    "\n",
    "#Seleccionar los datos que cumplen la condición\n",
    "file_data[mask,:]"
   ]
  },
  {
   "cell_type": "markdown",
   "metadata": {},
   "source": [
    "Ejemplo"
   ]
  },
  {
   "cell_type": "code",
   "execution_count": 9,
   "metadata": {},
   "outputs": [
    {
     "name": "stdout",
     "output_type": "stream",
     "text": [
      "[[7147 6521 3103 5862 8085 5863 2037 9624 9394 3890   60 2399]\n",
      " [ 595 7716 5522 1617 5805 3804  651 7917 2316 7112 5435 9623]\n",
      " [4632 5201 1293 5753  721 3030 4223 1608 8548 5306 2357 7680]\n",
      " [8449  151 9172 4820 7909 7336 7108  906  243 9150 1600 4224]\n",
      " [7670 7400 3919 4235 6765 4092 6771 7436 8260 9180 9172 9277]]\n"
     ]
    }
   ],
   "source": [
    "# DEfinimos una matriz en el que cada columna es un mes del año y cada fila es un departamento de mi empresa\n",
    "departamentos = np.array(['Ventas', 'Marketing', 'RRHH', 'Compras', 'Producción'])\n",
    "\n",
    "gastos = np.random.randint(0,10000, size = (5,12), dtype=np.int32)\n",
    "print(gastos)"
   ]
  },
  {
   "cell_type": "code",
   "execution_count": 10,
   "metadata": {},
   "outputs": [
    {
     "name": "stdout",
     "output_type": "stream",
     "text": [
      "['Ventas' 'Compras' 'Producción']\n"
     ]
    }
   ],
   "source": [
    "# Conocer que departamentos gastan más de 5000€ en el mes de enero [rows,columns] = [empresa:mes]\n",
    "gastos[:,0] > 5000\n",
    "print(departamentos[gastos[:,0] > 5000])"
   ]
  }
 ],
 "metadata": {
  "kernelspec": {
   "display_name": "Python 3.10.8 64-bit (microsoft store)",
   "language": "python",
   "name": "python3"
  },
  "language_info": {
   "codemirror_mode": {
    "name": "ipython",
    "version": 3
   },
   "file_extension": ".py",
   "mimetype": "text/x-python",
   "name": "python",
   "nbconvert_exporter": "python",
   "pygments_lexer": "ipython3",
   "version": "3.10.8"
  },
  "orig_nbformat": 4,
  "vscode": {
   "interpreter": {
    "hash": "933220bd3bd0d4c221f7ea232c9212ab8fb8a722fe1db461ffd591306e340b7e"
   }
  }
 },
 "nbformat": 4,
 "nbformat_minor": 2
}
