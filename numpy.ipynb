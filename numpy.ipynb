{
 "cells": [
  {
   "cell_type": "markdown",
   "metadata": {},
   "source": [
    "# Python numpy"
   ]
  },
  {
   "cell_type": "markdown",
   "metadata": {},
   "source": [
    ">> Numpy\n",
    "\n",
    "Documentação : https://numpy.org/doc/stable/user/absolute_beginners.html#numpy-the-absolute-basics-for-beginners\n",
    "\n",
    "\n",
    ">> Intalación\n",
    "\n",
    "Insira o código abaixo no Anaconda Prompt:\n",
    "<b>pip install numpy</b>\n",
    "https://numpy.org/install/\n",
    "\n",
    "\n",
    "\n",
    ">> Importación\n",
    "https://numpy.org/doc/stable/user/absolute_beginners.html#how-to-import-numpy"
   ]
  },
  {
   "cell_type": "markdown",
   "metadata": {},
   "source": [
    "## Qué es un array?\n",
    "Tipos de arrays:\n",
    "ndarrays -> significam arrays com N dimensões<br>\n",
    "\n",
    "1-D array-> Possui apenas uma dimensão. Será comumente chamado de <b> vetor ou vector </b> <br>\n",
    "2-D array -> Possui 2 dimensões. Será comumente chamado de <b> matriz ou matrix</b> <br>\n",
    "3-D ou Mais array -> Possui 3 ou mais dimensões. Será comumente chamado de <b>tensor</b> \n",
    "                                     \n",
    "https://numpy.org/doc/stable/reference/arrays.html#arrays"
   ]
  },
  {
   "cell_type": "code",
   "execution_count": 1,
   "metadata": {},
   "outputs": [],
   "source": [
    "\"\"\" Importamos numpy como np, para facilitar y que no haga falta escribir siempre la palabra numpy y sí, np\"\"\"\n",
    "import numpy as np\n"
   ]
  },
  {
   "cell_type": "markdown",
   "metadata": {},
   "source": [
    "### Primeros pasos"
   ]
  },
  {
   "cell_type": "markdown",
   "metadata": {},
   "source": [
    "### np.array() \n",
    "*Todos los valores del array deben ser del mismo tipo ( numeros, str...)\n"
   ]
  },
  {
   "cell_type": "markdown",
   "metadata": {},
   "source": [
    "Array Vector: de una dimensión"
   ]
  },
  {
   "cell_type": "code",
   "execution_count": 14,
   "metadata": {},
   "outputs": [
    {
     "name": "stdout",
     "output_type": "stream",
     "text": [
      "array: a  [1 2 3 4 5]\n",
      "dimension de a:  1\n"
     ]
    }
   ],
   "source": [
    "# Para iniciar un array de numpy llamamos a la funcion np.array()\n",
    "# todos los valores de array deben ser del mismo tipo\n",
    "a = np.array([1,2,3,4,5]) \n",
    "\n",
    "print(\"array: a \", a)\n",
    "\n",
    "print (\"dimension de a: \", a.ndim)"
   ]
  },
  {
   "cell_type": "markdown",
   "metadata": {},
   "source": [
    "Array Matrix: de dos dimensiones"
   ]
  },
  {
   "cell_type": "code",
   "execution_count": 13,
   "metadata": {},
   "outputs": [
    {
     "name": "stdout",
     "output_type": "stream",
     "text": [
      "[[1 2 3]\n",
      " [4 5 6]]\n",
      "Dimension de b: 2\n"
     ]
    }
   ],
   "source": [
    "# Para inicializar un array de dimension 2 podemos pasar una lista de listas\n",
    "b = np.array([\n",
    "    [1,2,3],[4,5,6]\n",
    "    ])\n",
    "print(b)\n",
    "print(\"Dimension de b:\", b.ndim )\n"
   ]
  },
  {
   "cell_type": "markdown",
   "metadata": {},
   "source": [
    "Array de trés dimensiones: Tensor"
   ]
  },
  {
   "cell_type": "code",
   "execution_count": 16,
   "metadata": {},
   "outputs": [
    {
     "data": {
      "text/plain": [
       "array([[[1, 2, 3],\n",
       "        [4, 5, 6]],\n",
       "\n",
       "       [[1, 2, 3],\n",
       "        [4, 5, 6]]])"
      ]
     },
     "execution_count": 16,
     "metadata": {},
     "output_type": "execute_result"
    }
   ],
   "source": [
    "# Podemos anidar mas listas para crear arrays de dim 3 o mas\n",
    "c = np.array( [\n",
    "    [\n",
    "        [1,2,3], [4,5,6]\n",
    "    ],\n",
    "    [\n",
    "        [1,2,3], [4,5,6]\n",
    "    ]\n",
    "\n",
    "] )\n",
    "c"
   ]
  },
  {
   "cell_type": "code",
   "execution_count": 18,
   "metadata": {},
   "outputs": [
    {
     "name": "stdout",
     "output_type": "stream",
     "text": [
      "Dimensión de c: 3\n"
     ]
    }
   ],
   "source": [
    "print(\"Dimensión de c:\",c.ndim)"
   ]
  },
  {
   "cell_type": "markdown",
   "metadata": {},
   "source": [
    "Otro ejemploe de Array de 3 dimensiones: Tensor"
   ]
  },
  {
   "cell_type": "code",
   "execution_count": 19,
   "metadata": {},
   "outputs": [
    {
     "name": "stdout",
     "output_type": "stream",
     "text": [
      "[[[1 4 7]\n",
      "  [2 9 7]\n",
      "  [1 3 0]\n",
      "  [9 6 9]]\n",
      "\n",
      " [[2 3 4]\n",
      "  [4 5 5]\n",
      "  [1 2 2]\n",
      "  [9 3 8]]]\n",
      "Dimensión de d:  3\n"
     ]
    }
   ],
   "source": [
    "#vamos a crear un array de 3 dimenensiones \n",
    "d=np.array ([\n",
    "    [\n",
    "    [1,4,7],\n",
    "    [2,9,7],\n",
    "    [1,3,0],\n",
    "    [9,6,9]],\n",
    "            \n",
    "    [\n",
    "    [2,3,4],\n",
    "    [4,5,5],\n",
    "    [1,2,2],\n",
    "    [9,3,8]]\n",
    "    ])\n",
    "\n",
    "\n",
    "print(d)\n",
    "print(\"Dimensión de d: \",d.ndim)\n"
   ]
  },
  {
   "cell_type": "markdown",
   "metadata": {},
   "source": [
    "## shape\n",
    "El shape de un array es una tupla que indica el tamaño de cada dimensión <br>\n",
    "\n",
    "Imagen representativa de las dimensiones de array: 1D, 2D, 3D<br> \n",
    "\n",
    "\n",
    "<br><img src=https://aprendeconalf.es/docencia/python/manual/img/arrays.png>\n"
   ]
  },
  {
   "cell_type": "code",
   "execution_count": 27,
   "metadata": {},
   "outputs": [
    {
     "name": "stdout",
     "output_type": "stream",
     "text": [
      "Array a: [1 2 3 4 5]\n",
      "Shape de a: (5,)\n",
      "En la tupla, el primer elemento es la cantidad de elemento y la segudna es vacío, pues es solo de una dimensión\n",
      "--------------\n",
      "Array b:\n",
      "[[1 2 3]\n",
      " [4 5 6]]\n",
      "hsape de b: (2, 3)\n",
      "Me devolve dos nº, la primera es la cantidad de filas y el otro nº es la cantidad de elemntos en cada fila \n",
      "--------------\n",
      "Array c:\n",
      "[[[1 2 3]\n",
      "  [4 5 6]]\n",
      "\n",
      " [[1 2 3]\n",
      "  [4 5 6]]]\n",
      "c: (2, 2, 3)\n",
      "Aqui es 3D: el primer nº es la cantidad de matrices, despues cantidad de filas y el último columnas\n"
     ]
    }
   ],
   "source": [
    "#El shape de un array es una tupla que indica el tamaño de cada dimnsion\n",
    "print (\"Array a:\", a)\n",
    "print(\"Shape de a:\", a.shape) # me va a pasar el numero de elementos del array \n",
    "print (\"En la tupla, el primer elemento es la cantidad de elemento y la segudna es vacío, pues es solo de una dimensión\")\n",
    "\n",
    "print (\"--------------\")\n",
    "\n",
    "print (\"Array b:\")\n",
    "print (b)\n",
    "print(\"hsape de b:\", b.shape)\n",
    "print (\"Me devolve dos nº, la primera es la cantidad de filas y el otro nº es la cantidad de elemntos en cada fila \")\n",
    "\n",
    "print (\"--------------\")\n",
    "print (\"Array c:\")\n",
    "print (c)\n",
    "print(\"c:\" , c.shape)\n",
    "print (\"Aqui es 3D: el primer nº es la cantidad de matrices, despues cantidad de filas y el último columnas\")"
   ]
  },
  {
   "cell_type": "code",
   "execution_count": 29,
   "metadata": {},
   "outputs": [
    {
     "name": "stdout",
     "output_type": "stream",
     "text": [
      "Array d\n",
      "[[[1 4 7]\n",
      "  [2 9 7]\n",
      "  [1 3 0]\n",
      "  [9 6 9]]\n",
      "\n",
      " [[2 3 4]\n",
      "  [4 5 5]\n",
      "  [1 2 2]\n",
      "  [9 3 8]]]\n",
      "Dimensión: 3\n",
      "Shape: (2, 4, 3)\n"
     ]
    }
   ],
   "source": [
    "print (\"Array d\")\n",
    "print(d)\n",
    "print(\"Dimensión:\", d.ndim)\n",
    "print(\"Shape:\", d.shape)\n"
   ]
  },
  {
   "cell_type": "code",
   "execution_count": 31,
   "metadata": {},
   "outputs": [
    {
     "name": "stdout",
     "output_type": "stream",
     "text": [
      "Array e\n",
      "[[[1 4 7]\n",
      "  [2 9 7]\n",
      "  [1 3 0]\n",
      "  [9 6 9]]\n",
      "\n",
      " [[2 3 4]\n",
      "  [4 5 5]\n",
      "  [1 2 2]\n",
      "  [9 3 8]]\n",
      "\n",
      " [[2 3 4]\n",
      "  [4 5 5]\n",
      "  [1 2 2]\n",
      "  [9 3 8]]]\n",
      "Dimensión de e: 3\n",
      "Shape de e: (3, 4, 3)\n"
     ]
    }
   ],
   "source": [
    "e=np.array ([\n",
    "    [\n",
    "    [1,4,7],\n",
    "    [2,9,7],\n",
    "    [1,3,0],\n",
    "    [9,6,9]],\n",
    "            \n",
    "    [\n",
    "    [2,3,4],\n",
    "    [4,5,5],\n",
    "    [1,2,2],\n",
    "    [9,3,8]\n",
    "    ],\n",
    "\n",
    "    [\n",
    "    [2,3,4],\n",
    "    [4,5,5],\n",
    "    [1,2,2],\n",
    "    [9,3,8]]\n",
    "\n",
    "    ])\n",
    "\n",
    "print(\"Array e\")\n",
    "print(e)\n",
    "print(\"Dimensión de e:\", e.ndim)\n",
    "print(\"Shape de e:\", e.shape)\n"
   ]
  },
  {
   "cell_type": "markdown",
   "metadata": {},
   "source": [
    "### Obtener el tipo de dato de un array \n",
    "x.dtype"
   ]
  },
  {
   "cell_type": "code",
   "execution_count": 26,
   "metadata": {},
   "outputs": [
    {
     "data": {
      "text/plain": [
       "dtype('int32')"
      ]
     },
     "execution_count": 26,
     "metadata": {},
     "output_type": "execute_result"
    }
   ],
   "source": [
    "a.dtype"
   ]
  },
  {
   "cell_type": "markdown",
   "metadata": {},
   "source": [
    "Bits y Bytes"
   ]
  },
  {
   "cell_type": "code",
   "execution_count": null,
   "metadata": {},
   "outputs": [],
   "source": [
    "# Representación de un byte en binario -> 1010\n",
    "\"\"\" \n",
    "Bit = Binary Digit (zero o uno)\n",
    "8 bits = 1 Byte (tamaño o capacidad de armacenamiento)\n",
    "\"\"\"\n",
    "\n",
    "# El tipo int16 puede representar un nº entero de 16 bits (ocuapación de la memória equivalente a 2 bytes) (-32.768 a 32.767)\n",
    "# El tipo int32 puede representar un nº entero de 32 bits (ocuapación de la memória equivalente a 4 bytes) (-2.147.648 a 2.147.483.647)\n",
    "# El tipo int64 puede representar un nº entero de 64 bits (ocuapación de la memória equivalente a 8 bytes) (-9.233.372.036.854.775.808 a 92.23.372.036.854.775.807)\n",
    "\n",
    "#El tipo float32 puede representar un nº real de 32 bits (ocuapación de la memória equivalente a 4 bytes) (-3.40282335e+38 a 3.40282335e+38)\n",
    "#El tipo float64 puede representar un nº real de 64 bits (ocuapación de la memória equivalente a 8 bytes) (-1.7976931348623157e+308 a 1.7976931348623157e+308)"
   ]
  },
  {
   "cell_type": "code",
   "execution_count": 46,
   "metadata": {},
   "outputs": [
    {
     "name": "stdout",
     "output_type": "stream",
     "text": [
      "imprimir matrix arr16:\n",
      " [[1 2 3]\n",
      " [4 5 6]]\n",
      "tipo de la matrix: int16\n"
     ]
    }
   ],
   "source": [
    "\"\"\" Define un array de dim 2 y de tipo int16 \"\"\"\n",
    "\n",
    "arr16 = np.array([[1,2,3],[4,5,6]], dtype=np.int16)\n",
    "print (\"imprimir matrix arr16:\\n\", arr16)\n",
    "print(\"tipo de la matrix:\", arr16.dtype)\n"
   ]
  },
  {
   "cell_type": "markdown",
   "metadata": {},
   "source": [
    "Ejemplo con array de int16 y con un nº que no sea capaz de manejar"
   ]
  },
  {
   "cell_type": "code",
   "execution_count": 35,
   "metadata": {},
   "outputs": [
    {
     "name": "stdout",
     "output_type": "stream",
     "text": [
      "[[    1     2     3]\n",
      " [    4     5 -1536]]\n"
     ]
    }
   ],
   "source": [
    "\"\"\" Un situación en que int16 no soportaría... nº mayores de 32.767. Resulta un error con valor negativo.\n",
    "Es decir, el tipo de dato no es capaz de manejar valores fuera de su rango (32.768) por lo que se produce un overflow e introduce basura \"\"\"\n",
    "\n",
    "b16 = np.array([[1,2,3],[4,5,64000]], dtype=np.int16)\n",
    "print(b16)"
   ]
  },
  {
   "cell_type": "markdown",
   "metadata": {},
   "source": [
    "Ejemplo de array con int32"
   ]
  },
  {
   "cell_type": "code",
   "execution_count": 36,
   "metadata": {},
   "outputs": [
    {
     "name": "stdout",
     "output_type": "stream",
     "text": [
      "[[    1     2     3]\n",
      " [    4     5 64000]]\n"
     ]
    }
   ],
   "source": [
    "\"\"\" Igual de la anterior pero con int32, en que soporta nº 64000..no nos dá error\"\"\"\n",
    "c16 = np.array([[1,2,3],[4,5,64000]], dtype=np.int32)\n",
    "print(c16)"
   ]
  },
  {
   "cell_type": "markdown",
   "metadata": {},
   "source": [
    "Convertir el type de array: \n",
    "<br> astype"
   ]
  },
  {
   "cell_type": "code",
   "execution_count": 40,
   "metadata": {},
   "outputs": [
    {
     "name": "stdout",
     "output_type": "stream",
     "text": [
      "arr16 type: int16\n",
      "[[1 2 3]\n",
      " [4 5 6]]\n",
      "arr32 type: int32\n",
      "[[1 2 3]\n",
      " [4 5 6]]\n"
     ]
    }
   ],
   "source": [
    "# Redefinir el tipo de un array\n",
    "\"\"\" Convertir el array arr16 a tipo int32, sin modificar el objeto\"\"\"\n",
    "\n",
    "arr32 = arr16.astype(np.int32) # Transformo para int32 sin alterar el objeto\n",
    "\n",
    "print(\"arr16 type:\", arr16.dtype)\n",
    "print(arr16)\n",
    "print (\"arr32 type:\", arr32.dtype)\n",
    "print(arr32)\n",
    "\n",
    "\n"
   ]
  },
  {
   "cell_type": "markdown",
   "metadata": {},
   "source": [
    "Saber cuanto ocupa en memoria un array de int16 (2 bytes)\n",
    "\n",
    "<br>x.itemsize\n"
   ]
  },
  {
   "cell_type": "code",
   "execution_count": 42,
   "metadata": {},
   "outputs": [
    {
     "name": "stdout",
     "output_type": "stream",
     "text": [
      "El arr16 ocupa un espacio en la memória de: 2 bytes\n"
     ]
    }
   ],
   "source": [
    "print(\"El arr16 ocupa un espacio en la memória de:\" ,arr16.itemsize, \"bytes\")"
   ]
  },
  {
   "cell_type": "markdown",
   "metadata": {},
   "source": [
    "Número de elementos que tiene el array\n",
    "\n",
    "<br> size =      nº de elementos"
   ]
  },
  {
   "cell_type": "code",
   "execution_count": 44,
   "metadata": {},
   "outputs": [
    {
     "name": "stdout",
     "output_type": "stream",
     "text": [
      "Utilizando size para saber el nº de elementos de arr16: 6\n"
     ]
    }
   ],
   "source": [
    "print(\"Utilizando size para saber el nº de elementos de arr16:\", arr16.size)"
   ]
  },
  {
   "cell_type": "markdown",
   "metadata": {},
   "source": [
    "Tamaño total size * itemsize"
   ]
  },
  {
   "cell_type": "code",
   "execution_count": 45,
   "metadata": {},
   "outputs": [
    {
     "name": "stdout",
     "output_type": "stream",
     "text": [
      "Tamaño total del array arr16: 12\n"
     ]
    }
   ],
   "source": [
    "print(\"Tamaño total del array arr16:\", arr16.size * arr16.itemsize)"
   ]
  },
  {
   "cell_type": "markdown",
   "metadata": {},
   "source": [
    "### Memória"
   ]
  },
  {
   "cell_type": "markdown",
   "metadata": {},
   "source": [
    "Memória con array de int16"
   ]
  },
  {
   "cell_type": "code",
   "execution_count": 55,
   "metadata": {},
   "outputs": [
    {
     "name": "stdout",
     "output_type": "stream",
     "text": [
      "Array 16:\n",
      " [[1 2 3]\n",
      " [4 5 6]] \n",
      "\n",
      "Elementos array arr16: 6 elementos\n",
      "Tamaño de cada elemento del array arr16: 2 bytes\n",
      "Tamaño total del array arr16: 12 bytes\n"
     ]
    }
   ],
   "source": [
    "print('Array 16:\\n', arr16,\"\\n\")\n",
    "print('Elementos array arr16:' , arr16.size, 'elementos')\n",
    "print('Tamaño de cada elemento del array arr16:', arr16.itemsize, 'bytes')\n",
    "print(\"Tamaño total del array arr16:\", arr16.size * arr16.itemsize, 'bytes')"
   ]
  },
  {
   "cell_type": "code",
   "execution_count": 56,
   "metadata": {},
   "outputs": [
    {
     "name": "stdout",
     "output_type": "stream",
     "text": [
      "Array 32:\n",
      " [[1 2 3]\n",
      " [4 5 6]] \n",
      "\n",
      "Elementos array arr32: 6 elementos\n",
      "Tamaño de cada elemento del array arr32: 4 bytes\n",
      "Tamaño total del array arr32: 24 bytes\n"
     ]
    }
   ],
   "source": [
    "print('Array 32:\\n', arr32,\"\\n\")\n",
    "print('Elementos array arr32:' , arr32.size, 'elementos')\n",
    "print('Tamaño de cada elemento del array arr32:', arr32.itemsize, 'bytes')\n",
    "print(\"Tamaño total del array arr32:\", arr32.size * arr32.itemsize, 'bytes')"
   ]
  },
  {
   "cell_type": "markdown",
   "metadata": {},
   "source": [
    "### Otra forma de inicializar un array:\n",
    "\n",
    "Range"
   ]
  },
  {
   "cell_type": "code",
   "execution_count": null,
   "metadata": {},
   "outputs": [],
   "source": [
    "ejemplo1 = list(range(10))\n",
    "print(\"Imprimir una lista con range:\", ejemplo1)\n",
    "\n",
    "print(\"\\nImprimir cada elemento de la lista:\")\n",
    "for i in range (10):\n",
    "    print(i)"
   ]
  },
  {
   "cell_type": "code",
   "execution_count": 66,
   "metadata": {},
   "outputs": [
    {
     "name": "stdout",
     "output_type": "stream",
     "text": [
      "[0 1 2 3 4 5 6 7 8 9]\n"
     ]
    }
   ],
   "source": [
    "\"\"\"Inicializar array con range. El array debe tener 10 elementos\"\"\"\n",
    "\n",
    "a0 = np.array(range(10))\n",
    "print(a0)"
   ]
  },
  {
   "cell_type": "code",
   "execution_count": 67,
   "metadata": {},
   "outputs": [
    {
     "name": "stdout",
     "output_type": "stream",
     "text": [
      "[10 11 12 13 14 15 16 17 18 19]\n"
     ]
    }
   ],
   "source": [
    "a1 = np.array(range(10,20))\n",
    "print(a1)"
   ]
  },
  {
   "cell_type": "code",
   "execution_count": 69,
   "metadata": {},
   "outputs": [
    {
     "name": "stdout",
     "output_type": "stream",
     "text": [
      "[10 15 20]\n"
     ]
    }
   ],
   "source": [
    "a2 = np.array(range(10,25,5))\n",
    "print(a2)"
   ]
  },
  {
   "cell_type": "markdown",
   "metadata": {},
   "source": [
    "Numpy: arange<br> \n",
    "<br> (solo se puede hacer c solo una lista)"
   ]
  },
  {
   "cell_type": "code",
   "execution_count": 70,
   "metadata": {},
   "outputs": [
    {
     "name": "stdout",
     "output_type": "stream",
     "text": [
      "[10 12 14 16 18]\n"
     ]
    }
   ],
   "source": [
    "''' Inicializar un array con arange. Desde 10 hasta 20 con paso 2 '''\n",
    "\n",
    "b = np.arange(10,20,2)\n",
    "print(b)"
   ]
  },
  {
   "cell_type": "markdown",
   "metadata": {},
   "source": [
    "Ejercicios"
   ]
  },
  {
   "cell_type": "code",
   "execution_count": 76,
   "metadata": {},
   "outputs": [
    {
     "name": "stdout",
     "output_type": "stream",
     "text": [
      "[ 1  2  3  4  5  6  7  8  9 10]\n",
      "Dimension (1d, 2d o 3d?): 1\n",
      "formato (shape): (10,)\n"
     ]
    }
   ],
   "source": [
    "'''\n",
    "Define el array 'a' del 1 al 10\n",
    "'''\n",
    "a = np.arange(1,11)\n",
    "print(a)\n",
    "'''\n",
    "Imprime la dimension del array y el shape\n",
    "'''\n",
    "\n",
    "print('Dimension (1d, 2d o 3d?):', a.ndim)\n",
    "print('formato (shape):', a.shape)"
   ]
  },
  {
   "cell_type": "code",
   "execution_count": 82,
   "metadata": {},
   "outputs": [
    {
     "name": "stdout",
     "output_type": "stream",
     "text": [
      "array b:\n",
      " [[1 2 3]\n",
      " [4 5 6]]\n",
      "\n",
      " Shape: (2, 3)\n"
     ]
    }
   ],
   "source": [
    "''' \n",
    "Define de un array 'b' de dimensiones 2x3 a partir de listas anidadas\n",
    "'''\n",
    "\n",
    "b = np.array([[1,2,3],[4,5,6]])\n",
    "print(\"array b:\\n\", b)\n",
    "print(\"\\n Shape:\", b.shape)"
   ]
  },
  {
   "cell_type": "code",
   "execution_count": 88,
   "metadata": {},
   "outputs": [
    {
     "name": "stdout",
     "output_type": "stream",
     "text": [
      "Array c:\n",
      " [[[ 1  2  3]\n",
      "  [ 4  5  6]]\n",
      "\n",
      " [[ 7  8  9]\n",
      "  [10 11 12]]] \n",
      "\n",
      "Shape de c:\n",
      " (2, 2, 3)\n",
      "\n",
      "Elementos con Size: 12\n"
     ]
    }
   ],
   "source": [
    "'''\n",
    "Define un array 'c'  de dim 2x2x3 a partir de una lista de listas anidadas \n",
    "'''\n",
    "c = np.array([\n",
    "    [[1,2,3],[4,5,6]],\n",
    "    [[7,8,9],[10,11,12]]\n",
    "])\n",
    "\n",
    "\n",
    "print(\"Array c:\\n\", c, \"\\n\\nShape de c:\\n\", c.shape)\n",
    "\n",
    "'''\n",
    "Imprime el número total de elementos del array y el shape\n",
    "'''\n",
    "\n",
    "print(\"\\nElementos con Size:\", c.size)"
   ]
  },
  {
   "cell_type": "markdown",
   "metadata": {},
   "source": [
    "## Accediendo y Modificando elementos de un array"
   ]
  },
  {
   "cell_type": "code",
   "execution_count": 90,
   "metadata": {},
   "outputs": [
    {
     "name": "stdout",
     "output_type": "stream",
     "text": [
      "[[1 2 3 8 7]\n",
      " [4 5 6 2 9]]\n"
     ]
    }
   ],
   "source": [
    "# Array f de 2x5\n",
    "f = np.array([[1,2,3,8,7],[4,5,6,2,9]])\n",
    "print(f)"
   ]
  },
  {
   "cell_type": "markdown",
   "metadata": {},
   "source": [
    "Obtener un elemento de un array\n",
    "\n",
    "index: [row,column]"
   ]
  },
  {
   "cell_type": "code",
   "execution_count": 92,
   "metadata": {},
   "outputs": [
    {
     "name": "stdout",
     "output_type": "stream",
     "text": [
      "elemento 6: 6\n",
      "elemento 8: 8\n"
     ]
    }
   ],
   "source": [
    "# Obtener un elemento concreto de un array [rows,columns]\n",
    "\n",
    "# Obtener el elemento 6 del array f\n",
    "print(\"elemento 6:\", f[1,2])\n",
    "\n",
    "# Obtener el elemento 8 del array f\n",
    "print(\"elemento 8:\", f[0,3])\n"
   ]
  },
  {
   "cell_type": "markdown",
   "metadata": {},
   "source": [
    "Obtener una fila completa de un array"
   ]
  },
  {
   "cell_type": "code",
   "execution_count": 95,
   "metadata": {},
   "outputs": [
    {
     "name": "stdout",
     "output_type": "stream",
     "text": [
      "[[1 2 3 8 7]\n",
      " [4 5 6 2 9]]\n"
     ]
    },
    {
     "data": {
      "text/plain": [
       "array([4, 5, 6, 2, 9])"
      ]
     },
     "execution_count": 95,
     "metadata": {},
     "output_type": "execute_result"
    }
   ],
   "source": [
    "# Para obtener una fila completa utilizamos la notación ':' como en la listas\n",
    "f = np.array([[1,2,3,8,7],[4,5,6,2,9]])\n",
    "print(f)\n",
    "\n",
    "f[1,:]\n",
    "\n"
   ]
  },
  {
   "cell_type": "markdown",
   "metadata": {},
   "source": [
    "Obtener una columna completa de un array"
   ]
  },
  {
   "cell_type": "code",
   "execution_count": 103,
   "metadata": {},
   "outputs": [
    {
     "name": "stdout",
     "output_type": "stream",
     "text": [
      "[[1 2 3 8 7]\n",
      " [4 5 6 2 9]\n",
      " [1 2 3 8 7]\n",
      " [4 5 6 2 9]]\n",
      "\n",
      "shape (4, 5)\n",
      "\n",
      "Columan 3: [3 6 3 6]\n"
     ]
    }
   ],
   "source": [
    "# define un array 'f' de dimensiones 4x5\n",
    "f = np.array([[1,2,3,8,7],[4,5,6,2,9],[1,2,3,8,7],[4,5,6,2,9]])\n",
    "print(f)\n",
    "print(\"\\nshape\",f.shape)\n",
    "\n",
    "# Obtener la columna 3 de array f\n",
    "print(\"\\nColuman 3:\", f[:,2])\n",
    "\n"
   ]
  },
  {
   "cell_type": "markdown",
   "metadata": {},
   "source": [
    "Otras formas de acceder a los elementos de un array\n",
    "\n",
    "[inicio: final: paso]"
   ]
  },
  {
   "cell_type": "code",
   "execution_count": 106,
   "metadata": {},
   "outputs": [
    {
     "name": "stdout",
     "output_type": "stream",
     "text": [
      "Array f:\n",
      " [[1 2 3 8 7]\n",
      " [4 5 6 2 9]\n",
      " [1 2 3 8 7]\n",
      " [4 5 6 2 9]]\n",
      "\n",
      "De la primera fila, del elemento 1 al 4 con paso 2\n",
      " f[0,1:4:2]\n"
     ]
    },
    {
     "data": {
      "text/plain": [
       "array([2, 8])"
      ]
     },
     "execution_count": 106,
     "metadata": {},
     "output_type": "execute_result"
    }
   ],
   "source": [
    "# Para acceder de una forma un poco más avanzada se utiliza [inicio: final: paso]\n",
    "f = np.array([[1,2,3,8,7],[4,5,6,2,9],[1,2,3,8,7],[4,5,6,2,9]])\n",
    "print(\"Array f:\\n\", f)\n",
    "\n",
    "#De la primera fila, del elemento 1 al 4 con paso 2\n",
    "print(\"\\nDe la primera fila, del elemento 1 al 4 con paso 2\\n\",\"f[0,1:4:2]\")\n",
    "f[0,1:4:2]"
   ]
  },
  {
   "cell_type": "markdown",
   "metadata": {},
   "source": [
    "Obtener las filas pares \n",
    "\n",
    "arr = [filas, columnas]"
   ]
  },
  {
   "cell_type": "code",
   "execution_count": 108,
   "metadata": {},
   "outputs": [
    {
     "name": "stdout",
     "output_type": "stream",
     "text": [
      "Array f:\n",
      " [[1 2 3 8 7]\n",
      " [4 5 6 2 9]\n",
      " [1 2 3 8 7]\n",
      " [4 5 6 2 9]]\n",
      "\n",
      "De la primera fila, del elemento 1 al 4 con paso 2\n",
      " f[0,1:4:2]\n"
     ]
    },
    {
     "data": {
      "text/plain": [
       "array([[1, 2, 3, 8, 7],\n",
       "       [1, 2, 3, 8, 7]])"
      ]
     },
     "execution_count": 108,
     "metadata": {},
     "output_type": "execute_result"
    }
   ],
   "source": [
    "# Para acceder de una forma un poco más avanzada se utiliza [inicio: final: paso, inicio: final: paso]\n",
    "f = np.array([[1,2,3,8,7],[4,5,6,2,9],[1,2,3,8,7],[4,5,6,2,9]])\n",
    "print(\"Array f:\\n\", f)\n",
    "\n",
    "#Obtener las filas pares: todas las filas con paso 2 [::2] y todas las columnas [:]\n",
    "print(\"\\nDe la primera fila, del elemento 1 al 4 con paso 2\\n\",\"f[0,1:4:2]\")\n",
    "f[::2,:]"
   ]
  },
  {
   "cell_type": "markdown",
   "metadata": {},
   "source": [
    "Invertir orden de las filas"
   ]
  },
  {
   "cell_type": "code",
   "execution_count": 112,
   "metadata": {},
   "outputs": [
    {
     "name": "stdout",
     "output_type": "stream",
     "text": [
      "[[4 5 6 2 9]\n",
      " [1 2 3 8 7]\n",
      " [4 5 6 2 9]\n",
      " [1 2 3 8 7]]\n"
     ]
    }
   ],
   "source": [
    "# Recorrer el array con paso negativo\n",
    "\n",
    "f_invertido= f[::-1,:]\n",
    "print(f_invertido)"
   ]
  },
  {
   "cell_type": "code",
   "execution_count": 117,
   "metadata": {},
   "outputs": [
    {
     "name": "stdout",
     "output_type": "stream",
     "text": [
      "[[[10 20]\n",
      "  [30 40]\n",
      "  [50 60]]\n",
      "\n",
      " [[11 21]\n",
      "  [31 41]\n",
      "  [51 61]]\n",
      "\n",
      " [[12 22]\n",
      "  [32 42]\n",
      "  [52 62]]]\n",
      "(3, 3, 2)\n"
     ]
    }
   ],
   "source": [
    "# Definir un array de 3x3x2\n",
    "\n",
    "g = np.array([\n",
    "[[10,20],[30,40],[50,60]],\n",
    "[[11,21],[31,41],[51,61]],\n",
    "[[12,22],[32,42],[52,62]]\n",
    "])\n",
    "\n",
    "print(g)\n",
    "print(g.shape)\n"
   ]
  },
  {
   "cell_type": "code",
   "execution_count": 123,
   "metadata": {},
   "outputs": [
    {
     "name": "stdout",
     "output_type": "stream",
     "text": [
      "41\n",
      "52\n",
      "fila enetera: [52 62]\n"
     ]
    }
   ],
   "source": [
    "#Acceder elemento 41\n",
    "print(g[1,1,1])\n",
    "\n",
    "# Acceder 52\n",
    "print(g[2,2,0])\n",
    "\n",
    "#Acceder una fila entera: la fila 2 del elemento 1\n",
    "print(\"fila enetera:\", g[2,2,:])\n",
    "\n"
   ]
  },
  {
   "cell_type": "markdown",
   "metadata": {},
   "source": [
    "Actualizar un elemento de un array"
   ]
  },
  {
   "cell_type": "code",
   "execution_count": 2,
   "metadata": {},
   "outputs": [
    {
     "name": "stdout",
     "output_type": "stream",
     "text": [
      "[[[10 20]\n",
      "  [30 40]\n",
      "  [50 60]]\n",
      "\n",
      " [[11 21]\n",
      "  [31 41]\n",
      "  [51 61]]\n",
      "\n",
      " [[12 22]\n",
      "  [32 42]\n",
      "  [52 62]]] \n",
      "\n",
      "Cambio:\n",
      "\n",
      "[[[ 10  20]\n",
      "  [ 30  40]\n",
      "  [500  60]]\n",
      "\n",
      " [[ 11  21]\n",
      "  [ 31  41]\n",
      "  [ 51  61]]\n",
      "\n",
      " [[ 12  22]\n",
      "  [ 32  42]\n",
      "  [ 52  62]]]\n"
     ]
    }
   ],
   "source": [
    "# Podemos actualizar la información de un array igual que seleccionando un elemento e igualandolo con un nuevo valor\n",
    "# Para este ejemplo vamos a utilizar el array 'h' de 3x3x2\n",
    "\n",
    "h = np.array([\n",
    "[[10,20],[30,40],[50,60]],\n",
    "[[11,21],[31,41],[51,61]],\n",
    "[[12,22],[32,42],[52,62]]\n",
    "])\n",
    "\n",
    "print(h,'\\n')\n",
    "\n",
    "#Cambiar el elemento 50 a 500\n",
    "print(\"Cambio:\\n\")\n",
    "h[0,2,0] = 500\n",
    "print(h)"
   ]
  },
  {
   "cell_type": "markdown",
   "metadata": {},
   "source": [
    "Alterando una fila completa"
   ]
  },
  {
   "cell_type": "code",
   "execution_count": 140,
   "metadata": {},
   "outputs": [
    {
     "name": "stdout",
     "output_type": "stream",
     "text": [
      "original\n",
      " [[[ 1  2  3]\n",
      "  [ 4  5  6]\n",
      "  [ 7  8  9]]\n",
      "\n",
      " [[10 20 30]\n",
      "  [40 50 60]\n",
      "  [70 80 90]]]\n",
      "\n",
      " cambio\n",
      " [[[ 1  2  3]\n",
      "  [ 4  5  6]\n",
      "  [ 7  8  9]]\n",
      "\n",
      " [[ 0  0  0]\n",
      "  [40 50 60]\n",
      "  [70 80 90]]]\n",
      "\n",
      " cambio 2\n",
      " [[[  1   2   3]\n",
      "  [  4   5   6]\n",
      "  [  7   8   9]]\n",
      "\n",
      " [[ 90 100 110]\n",
      "  [ 40  50  60]\n",
      "  [ 70  80  90]]]\n"
     ]
    }
   ],
   "source": [
    "i = np.array([[[1,2,3],[4,5,6],[7,8,9]],\n",
    "[[10,20,30],[40,50,60],[70,80,90]]])\n",
    "\n",
    "print(\"original\\n\", i)\n",
    "\n",
    "#Cambilar la fila [10,20,30] a ceros\n",
    "i[1,0,:] = 0\n",
    "print(\"\\n cambio\\n\",i)\n",
    "\n",
    "#Cambilar la fila [10,20,30] a 90,100,110\n",
    "i[1,0,:] = [90,100,110]\n",
    "print(\"\\n cambio 2\\n\",i)"
   ]
  },
  {
   "cell_type": "markdown",
   "metadata": {},
   "source": [
    "Alterar una columna a 0s"
   ]
  },
  {
   "cell_type": "code",
   "execution_count": 142,
   "metadata": {},
   "outputs": [
    {
     "name": "stdout",
     "output_type": "stream",
     "text": [
      "Original:\n",
      " [[[ 1  2  3]\n",
      "  [ 4  5  6]\n",
      "  [ 7  8  9]]\n",
      "\n",
      " [[10 20 30]\n",
      "  [40 50 60]\n",
      "  [70 80 90]]] \n",
      "\n",
      "cambio:\n",
      " [[[ 1  0  3]\n",
      "  [ 4  0  6]\n",
      "  [ 7  0  9]]\n",
      "\n",
      " [[10  0 30]\n",
      "  [40  0 60]\n",
      "  [70  0 90]]]\n"
     ]
    }
   ],
   "source": [
    "j = np.array([[[1,2,3],[4,5,6],[7,8,9]],\n",
    "[[10,20,30],[40,50,60],[70,80,90]]])\n",
    "\n",
    "print(\"Original:\\n\", j, \"\\n\")\n",
    "#Cambiar la columna [20,50,80] [20,50,80]por ceros\n",
    "\n",
    "j[:,:,1]=0\n",
    "print(\"cambio:\\n\",j)\n"
   ]
  },
  {
   "cell_type": "markdown",
   "metadata": {},
   "source": [
    "Columnas con valores diferentes"
   ]
  },
  {
   "cell_type": "code",
   "execution_count": 144,
   "metadata": {},
   "outputs": [
    {
     "name": "stdout",
     "output_type": "stream",
     "text": [
      "Original:\n",
      " [[[ 1  2  3]\n",
      "  [ 4  5  6]\n",
      "  [ 7  8  9]]\n",
      "\n",
      " [[10 20 30]\n",
      "  [40 50 60]\n",
      "  [70 80 90]]] \n",
      "\n",
      "cambio:\n",
      " [[[ 1  2  1]\n",
      "  [ 4  5  2]\n",
      "  [ 7  8  3]]\n",
      "\n",
      " [[10 20  4]\n",
      "  [40 50  5]\n",
      "  [70 80  6]]]\n"
     ]
    }
   ],
   "source": [
    "k = np.array([[[1,2,3],[4,5,6],[7,8,9]],\n",
    "[[10,20,30],[40,50,60],[70,80,90]]])\n",
    "\n",
    "print(\"Original:\\n\", k, \"\\n\")\n",
    "#Cambiar las ultimas columnas por valores diferentes\n",
    "\n",
    "k[:,:,-1]= [1,2,3],[4,5,6]\n",
    "print(\"cambio:\\n\",k)"
   ]
  },
  {
   "cell_type": "markdown",
   "metadata": {},
   "source": [
    "Ejercicios"
   ]
  },
  {
   "cell_type": "code",
   "execution_count": 8,
   "metadata": {},
   "outputs": [
    {
     "name": "stdout",
     "output_type": "stream",
     "text": [
      "[[1 2 3 8 7]\n",
      " [4 5 6 2 9]]\n",
      "7\n"
     ]
    }
   ],
   "source": [
    "'''\n",
    "Define un array 's' de tamaño 10 y selecciona el valor de la posición 5\n",
    "'''\n",
    "s = np.array([[1,2,3,8,7],[4,5,6,2,9]])\n",
    "print(s)\n",
    "\n",
    "print(s[0,4])\n",
    "\n"
   ]
  },
  {
   "cell_type": "code",
   "execution_count": 11,
   "metadata": {},
   "outputs": [
    {
     "name": "stdout",
     "output_type": "stream",
     "text": [
      "5\n"
     ]
    }
   ],
   "source": [
    "'''\n",
    "Sobre el array s, selecciona el valor 5\n",
    "'''\n",
    "print(s[1,1])"
   ]
  },
  {
   "cell_type": "code",
   "execution_count": 16,
   "metadata": {},
   "outputs": [
    {
     "name": "stdout",
     "output_type": "stream",
     "text": [
      "[[24 12 36 38 38]\n",
      " [10 32 26 42  6]\n",
      " [20 16 13 25 10]\n",
      " [29 19 26 45  7]\n",
      " [39 12 33 39 11]]\n",
      "\n",
      "Pares: [24 12 36 38 38 10 32 26 42  6 20 16 10 26 12]\n"
     ]
    }
   ],
   "source": [
    "'''\n",
    "Define el array 's' de tamaño 25 y selecciona los valores pares\n",
    "'''\n",
    "\n",
    "s = np.random.randint(0,50, size=(5,5))\n",
    "print(s)\n",
    "\n",
    "print(\"\\nPares:\", s[s%2==0])\n"
   ]
  },
  {
   "cell_type": "code",
   "execution_count": 19,
   "metadata": {},
   "outputs": [
    {
     "name": "stdout",
     "output_type": "stream",
     "text": [
      "[[48 19  5 10 24]\n",
      " [ 3 46 35 44  7]\n",
      " [32 40 12 26 32]\n",
      " [33 37 13 22 27]\n",
      " [15 29 35 17 37]]\n",
      "\n",
      "Impares: [19  5  3 35  7 33 37 13 27 15 29 35 17 37]\n"
     ]
    }
   ],
   "source": [
    "'''\n",
    "Define el array 's' de tamaño 25 y selecciona los valores impares\n",
    "'''\n",
    "\n",
    "s = np.random.randint(0,50, size=(5,5))\n",
    "print(s)\n",
    "\n",
    "print(\"\\nImpares:\", s[s%2!=0])"
   ]
  },
  {
   "cell_type": "code",
   "execution_count": 20,
   "metadata": {},
   "outputs": [
    {
     "data": {
      "text/plain": [
       "37"
      ]
     },
     "execution_count": 20,
     "metadata": {},
     "output_type": "execute_result"
    }
   ],
   "source": [
    "'''\n",
    "Sobre el array s, selecciona el uĺltimo valor\n",
    "'''\n",
    "s[-1,-1]"
   ]
  },
  {
   "cell_type": "code",
   "execution_count": 26,
   "metadata": {},
   "outputs": [
    {
     "name": "stdout",
     "output_type": "stream",
     "text": [
      "Matriz original:\n",
      " [[11  4  0 15]\n",
      " [10 16 19 18]\n",
      " [16  4  3 10]\n",
      " [ 9 13 15 10]\n",
      " [14 12  8  7]]\n",
      "\n",
      "Matriz inversa:\n",
      "  [[ 7  8 12 14]\n",
      " [10 15 13  9]\n",
      " [10  3  4 16]\n",
      " [18 19 16 10]\n",
      " [15  0  4 11]]\n",
      "\n",
      "invirtir con slicing:\n",
      " [[14 12  8  7]\n",
      " [ 9 13 15 10]\n",
      " [16  4  3 10]\n",
      " [10 16 19 18]\n",
      " [11  4  0 15]]\n"
     ]
    }
   ],
   "source": [
    "\"\"\"\n",
    "Define el array 's' de tamaño 20 e invierte el orden de los valores\n",
    "\"\"\"\n",
    "s = np.random.randint(20, size=(5,4))\n",
    "print(\"Matriz original:\\n\", s)\n",
    "#Obtener la matriz inversa\n",
    "inversa = np.flip(s)\n",
    "print(\"\\nMatriz inversa:\\n \" ,inversa)\n",
    "\n",
    "#invirtir con slicing\n",
    "print(\"\\ninvirtir con slicing:\\n\", s[::-1])\n"
   ]
  },
  {
   "cell_type": "code",
   "execution_count": 31,
   "metadata": {},
   "outputs": [
    {
     "name": "stdout",
     "output_type": "stream",
     "text": [
      "[[5 4]\n",
      " [6 8]]\n",
      "8\n"
     ]
    }
   ],
   "source": [
    "'''\n",
    "Define un array s2 multidimensional de tamaño 2x2 y selecciona el valor de la segunda fila y la segunda columna\n",
    "'''\n",
    "s2 = np.array([[5,4],[6,8]])\n",
    "print(s2)\n",
    "\n",
    "print(s2[1,1])\n",
    "\n"
   ]
  },
  {
   "cell_type": "code",
   "execution_count": 36,
   "metadata": {},
   "outputs": [
    {
     "name": "stdout",
     "output_type": "stream",
     "text": [
      "Original:\n",
      " [[[1 2]\n",
      "  [3 4]]\n",
      "\n",
      " [[5 6]\n",
      "  [7 8]]]\n",
      "6\n"
     ]
    }
   ],
   "source": [
    "'''\n",
    "Define el array:\n",
    "[\n",
    "[[1, 2], [3, 4]]\n",
    "[[5, 6], [7, 8]]\n",
    "]\n",
    "y selecciona el valor de la segunda dimension, primera fila, segunda columna\n",
    "'''\n",
    "t = np.array([\n",
    "[[1, 2], [3, 4]],\n",
    "[[5, 6], [7, 8]]])\n",
    "\n",
    "print(\"Original:\\n\", t)\n",
    "print(t[1,0,1])\n",
    "\n",
    "\n",
    "\n"
   ]
  },
  {
   "cell_type": "code",
   "execution_count": 42,
   "metadata": {},
   "outputs": [
    {
     "name": "stdout",
     "output_type": "stream",
     "text": [
      "Modificada:\n",
      " [[[66 99 92]\n",
      "  [23 99 26]\n",
      "  [47 99 50]\n",
      "  [50 99 53]]\n",
      "\n",
      " [[23 99 97]\n",
      "  [79 99 77]\n",
      "  [44 99 36]\n",
      "  [32 99  1]]\n",
      "\n",
      " [[ 8 99 19]\n",
      "  [11 99 56]\n",
      "  [41 99 47]\n",
      "  [32 99 89]]\n",
      "\n",
      " [[56 99 45]\n",
      "  [17 99 24]\n",
      "  [42 99 27]\n",
      "  [14 99 45]]]\n"
     ]
    }
   ],
   "source": [
    "'''\n",
    "Define un array s4 de tamaño 4x4x3 y establece los números centrales a 99\n",
    "'''\n",
    "\n",
    "s4 = np.random.randint(0,100,size=(4,4,3) )\n",
    "\n",
    "\n",
    "s4[:,:,1]=99\n",
    "print(\"Modificada:\\n\",s4 )"
   ]
  },
  {
   "cell_type": "code",
   "execution_count": 45,
   "metadata": {},
   "outputs": [
    {
     "data": {
      "text/plain": [
       "array([[[ 0,  3, 47],\n",
       "        [90,  0, 81],\n",
       "        [44,  1, 54],\n",
       "        [48,  4,  3]],\n",
       "\n",
       "       [[ 5, 18, 82],\n",
       "        [21,  2,  5],\n",
       "        [34,  3, 86],\n",
       "        [31, 10, 83]],\n",
       "\n",
       "       [[61, 15, 20],\n",
       "        [44,  4, 91],\n",
       "        [ 3,  5, 38],\n",
       "        [85, 60, 28]],\n",
       "\n",
       "       [[49, 96, 74],\n",
       "        [85,  6, 88],\n",
       "        [ 7,  7, 41],\n",
       "        [91,  1, 62]]])"
      ]
     },
     "execution_count": 45,
     "metadata": {},
     "output_type": "execute_result"
    }
   ],
   "source": [
    "'''\n",
    "Define un array s4 de tamaño 4x4x3 y establece los números centrales a (0,1), (2,3), (4,5), (6,7)\n",
    "'''\n",
    "s4 = np.random.randint(0,100,size=(4,4,3) )\n",
    "s4[0,1:3,1]=(0,1)\n",
    "s4[1,1:3,1]=(2,3)\n",
    "s4[2,1:3,1]=(4,5)\n",
    "s4[3,1:3,1]=(6,7)\n",
    "s4"
   ]
  },
  {
   "cell_type": "markdown",
   "metadata": {},
   "source": [
    "## Inicializando diferentes tipos de arrays"
   ]
  },
  {
   "cell_type": "markdown",
   "metadata": {},
   "source": [
    "Matriz de ceros"
   ]
  },
  {
   "cell_type": "code",
   "execution_count": 146,
   "metadata": {},
   "outputs": [
    {
     "data": {
      "text/plain": [
       "array([[[0., 0., 0.],\n",
       "        [0., 0., 0.],\n",
       "        [0., 0., 0.]],\n",
       "\n",
       "       [[0., 0., 0.],\n",
       "        [0., 0., 0.],\n",
       "        [0., 0., 0.]]])"
      ]
     },
     "execution_count": 146,
     "metadata": {},
     "output_type": "execute_result"
    }
   ],
   "source": [
    "# Definir una matriz completa de 0 de tamaño 5x3\n",
    "\n",
    "np.zeros((5,3))\n",
    "np.zeros((2,3,3))"
   ]
  },
  {
   "cell_type": "code",
   "execution_count": 149,
   "metadata": {},
   "outputs": [
    {
     "name": "stdout",
     "output_type": "stream",
     "text": [
      "[[0 0 0]\n",
      " [0 0 0]\n",
      " [0 0 0]\n",
      " [0 0 0]\n",
      " [0 0 0]]\n",
      "int32\n"
     ]
    }
   ],
   "source": [
    "# Definir una matriz completa de 0 de tipo int32 de tamaño 5x3\n",
    "\n",
    "arr_ceros = np.zeros((5,3), dtype=np.int32)\n",
    "print(arr_ceros)\n",
    "print(arr_ceros.dtype)"
   ]
  },
  {
   "cell_type": "code",
   "execution_count": 173,
   "metadata": {},
   "outputs": [
    {
     "data": {
      "text/plain": [
       "array([[[0., 0., 0., 0.],\n",
       "        [0., 0., 0., 0.],\n",
       "        [0., 0., 0., 0.]],\n",
       "\n",
       "       [[0., 0., 0., 0.],\n",
       "        [0., 0., 0., 0.],\n",
       "        [0., 0., 0., 0.]]])"
      ]
     },
     "execution_count": 173,
     "metadata": {},
     "output_type": "execute_result"
    }
   ],
   "source": [
    "# Podemos generar una matriz de zeros con un shape (2,3,4)\n",
    "np.zeros((2,3,4))"
   ]
  },
  {
   "cell_type": "markdown",
   "metadata": {},
   "source": [
    "Determinar una matriz por una de tamaño ya predeterminada la transformando en 0"
   ]
  },
  {
   "cell_type": "code",
   "execution_count": 159,
   "metadata": {},
   "outputs": [
    {
     "name": "stdout",
     "output_type": "stream",
     "text": [
      "int32\n",
      "Original:\n",
      " [[ 1  2  3]\n",
      " [ 4  5  6]\n",
      " [ 7  8  9]\n",
      " [10 11 12]\n",
      " [13 14 15]] \n",
      "\n",
      "np.zeros()\n",
      "float64\n",
      "[[0. 0. 0.]\n",
      " [0. 0. 0.]\n",
      " [0. 0. 0.]\n",
      " [0. 0. 0.]\n",
      " [0. 0. 0.]] \n",
      "\n",
      "np.zeros_like():\n",
      "int32\n",
      "[[0 0 0]\n",
      " [0 0 0]\n",
      " [0 0 0]\n",
      " [0 0 0]\n",
      " [0 0 0]]\n"
     ]
    }
   ],
   "source": [
    "l = np.array([[1,2,3],[4,5,6],[7,8,9],[10,11,12],[13,14,15]])\n",
    "print(l.dtype)\n",
    "print(\"Original:\\n\",l,\"\\n\")\n",
    "\n",
    "\n",
    "#Definir una matriz de 0 del shape de l \n",
    "print(\"np.zeros()\")\n",
    "zeros1 = np.zeros(l.shape)\n",
    "print(zeros1.dtype)\n",
    "print(zeros1, '\\n')\n",
    "\n",
    "\n",
    "#Otra forma de hacerlo es con zeros_like() copiando el shape de int32\n",
    "print(\"np.zeros_like():\")\n",
    "zeros2 = np.zeros_like(l)\n",
    "print(zeros2.dtype)\n",
    "print(zeros2)\n"
   ]
  },
  {
   "cell_type": "markdown",
   "metadata": {},
   "source": [
    "Matriz de unos"
   ]
  },
  {
   "cell_type": "code",
   "execution_count": 162,
   "metadata": {},
   "outputs": [
    {
     "data": {
      "text/plain": [
       "array([[1, 1, 1],\n",
       "       [1, 1, 1],\n",
       "       [1, 1, 1],\n",
       "       [1, 1, 1],\n",
       "       [1, 1, 1]])"
      ]
     },
     "execution_count": 162,
     "metadata": {},
     "output_type": "execute_result"
    }
   ],
   "source": [
    "np.ones((5,3), dtype=np.int32) #Definir una matriz de unos de tamaño 5x3"
   ]
  },
  {
   "cell_type": "code",
   "execution_count": 163,
   "metadata": {},
   "outputs": [
    {
     "data": {
      "text/plain": [
       "array([[1., 1., 1.],\n",
       "       [1., 1., 1.],\n",
       "       [1., 1., 1.],\n",
       "       [1., 1., 1.],\n",
       "       [1., 1., 1.]])"
      ]
     },
     "execution_count": 163,
     "metadata": {},
     "output_type": "execute_result"
    }
   ],
   "source": [
    "np.ones((5,3))"
   ]
  },
  {
   "cell_type": "code",
   "execution_count": 214,
   "metadata": {},
   "outputs": [
    {
     "data": {
      "text/plain": [
       "array([[27.24188834, 30.03831457, 28.14523697],\n",
       "       [50.12185137, 43.40113009, 60.40099294],\n",
       "       [16.4236797 , 34.78012122, 73.1431462 ],\n",
       "       [25.80534267, 64.82480389,  6.96533055],\n",
       "       [17.70630521,  3.83873574, 82.39881108]])"
      ]
     },
     "execution_count": 214,
     "metadata": {},
     "output_type": "execute_result"
    }
   ],
   "source": [
    "np.empty((5,3)) #numeros aleatorios, no se puede hacer matriz sin nada"
   ]
  },
  {
   "cell_type": "code",
   "execution_count": 224,
   "metadata": {},
   "outputs": [
    {
     "name": "stdout",
     "output_type": "stream",
     "text": [
      "(array([ 0. ,  2.5,  5. ,  7.5, 10. , 12.5, 15. , 17.5, 20. , 22.5, 25. ,\n",
      "       27.5, 30. , 32.5, 35. , 37.5, 40. , 42.5, 45. , 47.5]), 2.5)\n"
     ]
    }
   ],
   "source": [
    "# Entre numero de 0 y 50, 20 numeros sin el ultimo nº y el retstep muestra el paso\n",
    "\n",
    "array_linear = np.linspace(0 , 50 , num = 20 , endpoint = False, retstep= True)\n",
    "print(array_linear)\n"
   ]
  },
  {
   "cell_type": "markdown",
   "metadata": {},
   "source": [
    "Matriz de valores concretos\n",
    "\n",
    "np.full()"
   ]
  },
  {
   "cell_type": "code",
   "execution_count": 164,
   "metadata": {},
   "outputs": [
    {
     "data": {
      "text/plain": [
       "array([[50, 50, 50],\n",
       "       [50, 50, 50],\n",
       "       [50, 50, 50],\n",
       "       [50, 50, 50],\n",
       "       [50, 50, 50]])"
      ]
     },
     "execution_count": 164,
     "metadata": {},
     "output_type": "execute_result"
    }
   ],
   "source": [
    "np.full((5,3),50)"
   ]
  },
  {
   "cell_type": "code",
   "execution_count": 170,
   "metadata": {},
   "outputs": [
    {
     "name": "stdout",
     "output_type": "stream",
     "text": [
      "[[50. 50. 50.]\n",
      " [50. 50. 50.]\n",
      " [50. 50. 50.]\n",
      " [50. 50. 50.]\n",
      " [50. 50. 50.]]\n",
      "\n",
      " tipo: float64\n"
     ]
    }
   ],
   "source": [
    "#Añadir punto despues del numero para que sea flotante o si no... 50, dtype=np.float64\n",
    "p = np.full((5,3),50.)\n",
    "print(p)\n",
    "print(\"\\n tipo:\", p.dtype)"
   ]
  },
  {
   "cell_type": "markdown",
   "metadata": {},
   "source": [
    "Matriz de valores concretos (full like)"
   ]
  },
  {
   "cell_type": "code",
   "execution_count": 172,
   "metadata": {},
   "outputs": [
    {
     "data": {
      "text/plain": [
       "array([[75., 75., 75.],\n",
       "       [75., 75., 75.],\n",
       "       [75., 75., 75.],\n",
       "       [75., 75., 75.],\n",
       "       [75., 75., 75.]])"
      ]
     },
     "execution_count": 172,
     "metadata": {},
     "output_type": "execute_result"
    }
   ],
   "source": [
    "# Define una matriz como p pero con valores de 75\n",
    "np.full_like(p,75)"
   ]
  },
  {
   "cell_type": "markdown",
   "metadata": {},
   "source": [
    "Matriz de números aleatorios"
   ]
  },
  {
   "cell_type": "code",
   "execution_count": 228,
   "metadata": {},
   "outputs": [
    {
     "name": "stdout",
     "output_type": "stream",
     "text": [
      "[[7 7 3 4]\n",
      " [3 8 4 1]]\n"
     ]
    }
   ],
   "source": [
    "# Hashtag Programação\n",
    "from numpy.random import default_rng\n",
    "\n",
    "rng = default_rng()\n",
    "\n",
    "aleatorio = rng.integers(10, size = (2,4))\n",
    "\n",
    "print(aleatorio)\n"
   ]
  },
  {
   "cell_type": "code",
   "execution_count": 174,
   "metadata": {},
   "outputs": [
    {
     "data": {
      "text/plain": [
       "array([[0.19385405, 0.59033529, 0.27707841],\n",
       "       [0.25105109, 0.96827277, 0.14380196],\n",
       "       [0.19894874, 0.17496867, 0.97364612],\n",
       "       [0.58539871, 0.84461986, 0.12769248],\n",
       "       [0.19712764, 0.69670381, 0.4658182 ]])"
      ]
     },
     "execution_count": 174,
     "metadata": {},
     "output_type": "execute_result"
    }
   ],
   "source": [
    "# Atencion! Cuando creamos una matriz de números aleatórios No se pasa el shape por parametro\n",
    "# Define una matriz de tamaño 5x3 con valores aleatorios\n",
    "np.random.rand(5,3)"
   ]
  },
  {
   "cell_type": "code",
   "execution_count": 178,
   "metadata": {},
   "outputs": [
    {
     "data": {
      "text/plain": [
       "array([[27.24188834, 30.03831457, 28.14523697],\n",
       "       [50.12185137, 43.40113009, 60.40099294],\n",
       "       [16.4236797 , 34.78012122, 73.1431462 ],\n",
       "       [25.80534267, 64.82480389,  6.96533055],\n",
       "       [17.70630521,  3.83873574, 82.39881108]])"
      ]
     },
     "execution_count": 178,
     "metadata": {},
     "output_type": "execute_result"
    }
   ],
   "source": [
    "# Definir una matriz de 5x3 con valores aleatorios mayores que uno.\n",
    "np.random.rand(5,3)*100\n",
    "\n"
   ]
  },
  {
   "cell_type": "markdown",
   "metadata": {},
   "source": [
    "Randon de Numpy y no de Python"
   ]
  },
  {
   "cell_type": "code",
   "execution_count": 176,
   "metadata": {},
   "outputs": [
    {
     "data": {
      "text/plain": [
       "array([[33,  4, 94],\n",
       "       [47, 83, 74],\n",
       "       [36, 83, 84],\n",
       "       [78, 88, 63],\n",
       "       [56, 59, 99]])"
      ]
     },
     "execution_count": 176,
     "metadata": {},
     "output_type": "execute_result"
    }
   ],
   "source": [
    "# Definir una matriz de 5x3 con valores entre 0 ,100 utilizando randint (randon de nºs enteros)\n",
    "np.random.randint(0,100,(5,3))\n",
    "# np.random.randint(0,100,size=(5,3))\n"
   ]
  },
  {
   "cell_type": "markdown",
   "metadata": {},
   "source": [
    "Matriz identidad"
   ]
  },
  {
   "cell_type": "code",
   "execution_count": 205,
   "metadata": {},
   "outputs": [
    {
     "name": "stdout",
     "output_type": "stream",
     "text": [
      "[[1. 0. 0. 0. 0.]\n",
      " [0. 1. 0. 0. 0.]\n",
      " [0. 0. 1. 0. 0.]\n",
      " [0. 0. 0. 1. 0.]\n",
      " [0. 0. 0. 0. 1.]]\n"
     ]
    }
   ],
   "source": [
    "# Define la matriz identidad (cuadrado) de tamaño 5x5\n",
    "print(np.eye(5))"
   ]
  },
  {
   "cell_type": "code",
   "execution_count": 204,
   "metadata": {},
   "outputs": [
    {
     "name": "stdout",
     "output_type": "stream",
     "text": [
      "[[1. 0. 0. 0. 0.]\n",
      " [0. 1. 0. 0. 0.]\n",
      " [0. 0. 1. 0. 0.]\n",
      " [0. 0. 0. 1. 0.]\n",
      " [0. 0. 0. 0. 1.]]\n"
     ]
    }
   ],
   "source": [
    "#La matriz identidad se puede definir con la función 'identity'\n",
    "print(np.identity(5))"
   ]
  },
  {
   "cell_type": "markdown",
   "metadata": {},
   "source": [
    "Ejercicios"
   ]
  },
  {
   "cell_type": "code",
   "execution_count": 50,
   "metadata": {},
   "outputs": [
    {
     "name": "stdout",
     "output_type": "stream",
     "text": [
      "[[1 7 9 5 4]]\n",
      "[[0. 0. 0. 0. 0.]]\n"
     ]
    }
   ],
   "source": [
    "'''\n",
    "Define el array z de dim 1 completo de ceros\n",
    "'''\n",
    "z = np.random.randint(10, size=(1,5))\n",
    "print(z)\n",
    "print(np.zeros(z.shape))"
   ]
  },
  {
   "cell_type": "code",
   "execution_count": 66,
   "metadata": {},
   "outputs": [
    {
     "data": {
      "text/plain": [
       "array([[0., 0., 0., 0., 0., 0., 0., 0.],\n",
       "       [0., 0., 0., 0., 0., 0., 0., 0.],\n",
       "       [0., 0., 0., 0., 0., 0., 0., 0.],\n",
       "       [0., 0., 0., 0., 0., 0., 0., 0.],\n",
       "       [0., 0., 0., 0., 0., 0., 0., 0.],\n",
       "       [0., 0., 0., 0., 0., 0., 0., 0.],\n",
       "       [0., 0., 0., 0., 0., 0., 0., 0.],\n",
       "       [0., 0., 0., 0., 0., 0., 0., 0.]])"
      ]
     },
     "execution_count": 66,
     "metadata": {},
     "output_type": "execute_result"
    }
   ],
   "source": [
    "'''\n",
    "Define un array z de dim 8x8 completo de ceros\n",
    "'''\n",
    "z = np.zeros((8,8))\n",
    "z"
   ]
  },
  {
   "cell_type": "code",
   "execution_count": 68,
   "metadata": {},
   "outputs": [
    {
     "data": {
      "text/plain": [
       "array([[[0., 0., 0., 0.],\n",
       "        [0., 0., 0., 0.],\n",
       "        [0., 0., 0., 0.],\n",
       "        [0., 0., 0., 0.]],\n",
       "\n",
       "       [[0., 0., 0., 0.],\n",
       "        [0., 0., 0., 0.],\n",
       "        [0., 0., 0., 0.],\n",
       "        [0., 0., 0., 0.]],\n",
       "\n",
       "       [[0., 0., 0., 0.],\n",
       "        [0., 0., 0., 0.],\n",
       "        [0., 0., 0., 0.],\n",
       "        [0., 0., 0., 0.]],\n",
       "\n",
       "       [[0., 0., 0., 0.],\n",
       "        [0., 0., 0., 0.],\n",
       "        [0., 0., 0., 0.],\n",
       "        [0., 0., 0., 0.]]])"
      ]
     },
     "execution_count": 68,
     "metadata": {},
     "output_type": "execute_result"
    }
   ],
   "source": [
    "'''\n",
    "Define el array 'z' completo de ceros de n dim\n",
    "'''\n",
    "z1 = z.reshape(4,4,4)\n",
    "np.zeros(z1.shape)\n",
    "\n"
   ]
  },
  {
   "cell_type": "code",
   "execution_count": 71,
   "metadata": {},
   "outputs": [],
   "source": [
    "'''\n",
    "Define el array 'd' completo de unos de n dim\n",
    "'''\n",
    "d = np.ones((2,4,3))"
   ]
  },
  {
   "cell_type": "code",
   "execution_count": 74,
   "metadata": {},
   "outputs": [
    {
     "data": {
      "text/plain": [
       "array([[0., 0., 0., 0., 0., 0., 0., 0.],\n",
       "       [0., 1., 1., 1., 1., 1., 1., 0.],\n",
       "       [0., 1., 1., 1., 1., 1., 1., 0.],\n",
       "       [0., 1., 1., 1., 1., 1., 1., 0.],\n",
       "       [0., 1., 1., 1., 1., 1., 1., 0.],\n",
       "       [0., 1., 1., 1., 1., 1., 1., 0.],\n",
       "       [0., 1., 1., 1., 1., 1., 1., 0.],\n",
       "       [0., 0., 0., 0., 0., 0., 0., 0.]])"
      ]
     },
     "execution_count": 74,
     "metadata": {},
     "output_type": "execute_result"
    }
   ],
   "source": [
    "'''\n",
    "Define un array como el que se muestra a continuación:\n",
    "[[0. 0. 0. 0. 0. 0. 0. 0.]\n",
    " [0. 1. 1. 1. 1. 1. 1. 0.]\n",
    " [0. 1. 1. 1. 1. 1. 1. 0.]\n",
    " [0. 1. 1. 1. 1. 1. 1. 0.]\n",
    " [0. 1. 1. 1. 1. 1. 1. 0.]\n",
    " [0. 1. 1. 1. 1. 1. 1. 0.]\n",
    " [0. 1. 1. 1. 1. 1. 1. 0.]\n",
    " [0. 0. 0. 0. 0. 0. 0. 0.]]\n",
    "'''\n",
    "\n",
    "x = np.zeros((8,8))\n",
    "x[1:-1,1:-1]=1\n",
    "x\n",
    "\n"
   ]
  },
  {
   "cell_type": "code",
   "execution_count": 85,
   "metadata": {},
   "outputs": [
    {
     "name": "stdout",
     "output_type": "stream",
     "text": [
      "[[0 1 2 3 4]\n",
      " [5 6 7 8 9]]\n"
     ]
    }
   ],
   "source": [
    "'''\n",
    "Define un array 'g' con un range de 0 a 10 de dim 2\n",
    "'''\n",
    "g = np.array(range(10))\n",
    "g1 = g.reshape(2,5)\n",
    "print(g1)"
   ]
  },
  {
   "cell_type": "code",
   "execution_count": 90,
   "metadata": {},
   "outputs": [
    {
     "name": "stdout",
     "output_type": "stream",
     "text": [
      "20\n"
     ]
    },
    {
     "data": {
      "text/plain": [
       "array([[[ 0,  5],\n",
       "        [10, 15],\n",
       "        [20, 25],\n",
       "        [30, 35],\n",
       "        [40, 45]],\n",
       "\n",
       "       [[50, 55],\n",
       "        [60, 65],\n",
       "        [70, 75],\n",
       "        [80, 85],\n",
       "        [90, 95]]])"
      ]
     },
     "execution_count": 90,
     "metadata": {},
     "output_type": "execute_result"
    }
   ],
   "source": [
    "'''\n",
    "Define un array 'h' con un range de 0 a 100 con un paso de 5 y una dim difrente de 1\n",
    "'''\n",
    "h = np.array(range(0,100,5))\n",
    "print(h.size)\n",
    "\n",
    "h1 = h.reshape(2,5,2)\n",
    "h1\n"
   ]
  },
  {
   "cell_type": "markdown",
   "metadata": {},
   "source": [
    "## Operaciones con arrays"
   ]
  },
  {
   "cell_type": "markdown",
   "metadata": {},
   "source": [
    "Operaciones básicas:\n",
    "\n",
    "Las operaciones basicas con arrays o matrices son \"element wise\".\n",
    "Esto significa que se aplican a cada elemento de la matriz.\n",
    "\n",
    "<br>sum() suma\n",
    "<br>max() maximo\n",
    "<br>min() minimo\n",
    "<br>mean() media"
   ]
  },
  {
   "cell_type": "code",
   "execution_count": 181,
   "metadata": {},
   "outputs": [
    {
     "name": "stdout",
     "output_type": "stream",
     "text": [
      "[1 2 3 4 5]\n"
     ]
    }
   ],
   "source": [
    "a = np.array([1, 2, 3, 4, 5])\n",
    "print(a)"
   ]
  },
  {
   "cell_type": "markdown",
   "metadata": {},
   "source": [
    "suma"
   ]
  },
  {
   "cell_type": "code",
   "execution_count": 183,
   "metadata": {},
   "outputs": [
    {
     "name": "stdout",
     "output_type": "stream",
     "text": [
      "[3 4 5 6 7]\n"
     ]
    }
   ],
   "source": [
    "#Suma cada elelemento por el nº que damos\n",
    "print(a + 2)"
   ]
  },
  {
   "cell_type": "markdown",
   "metadata": {},
   "source": [
    "resta"
   ]
  },
  {
   "cell_type": "code",
   "execution_count": 184,
   "metadata": {},
   "outputs": [
    {
     "name": "stdout",
     "output_type": "stream",
     "text": [
      "[-1  0  1  2  3]\n"
     ]
    }
   ],
   "source": [
    "print(a - 2)"
   ]
  },
  {
   "cell_type": "markdown",
   "metadata": {},
   "source": [
    "Multiplicación"
   ]
  },
  {
   "cell_type": "code",
   "execution_count": 185,
   "metadata": {},
   "outputs": [
    {
     "name": "stdout",
     "output_type": "stream",
     "text": [
      "[ 2  4  6  8 10]\n"
     ]
    }
   ],
   "source": [
    "print(a * 2)"
   ]
  },
  {
   "cell_type": "markdown",
   "metadata": {},
   "source": [
    "División"
   ]
  },
  {
   "cell_type": "code",
   "execution_count": 186,
   "metadata": {},
   "outputs": [
    {
     "name": "stdout",
     "output_type": "stream",
     "text": [
      "[0.5 1.  1.5 2.  2.5]\n"
     ]
    }
   ],
   "source": [
    "print(a / 2)"
   ]
  },
  {
   "cell_type": "markdown",
   "metadata": {},
   "source": [
    "Exponenciación"
   ]
  },
  {
   "cell_type": "code",
   "execution_count": 187,
   "metadata": {},
   "outputs": [
    {
     "name": "stdout",
     "output_type": "stream",
     "text": [
      "[ 1  4  9 16 25]\n"
     ]
    }
   ],
   "source": [
    "print(a ** 2)"
   ]
  },
  {
   "cell_type": "code",
   "execution_count": 188,
   "metadata": {},
   "outputs": [
    {
     "name": "stdout",
     "output_type": "stream",
     "text": [
      "[10 20 30 40 50]\n"
     ]
    }
   ],
   "source": [
    "b = np.array([10, 20, 30, 40, 50])\n",
    "print(b)"
   ]
  },
  {
   "cell_type": "markdown",
   "metadata": {},
   "source": [
    "Se puede sumar dos arrays solamente si es del mismo tamaño"
   ]
  },
  {
   "cell_type": "code",
   "execution_count": 189,
   "metadata": {},
   "outputs": [
    {
     "name": "stdout",
     "output_type": "stream",
     "text": [
      "[11 22 33 44 55]\n"
     ]
    }
   ],
   "source": [
    "print(a+b)"
   ]
  },
  {
   "cell_type": "markdown",
   "metadata": {},
   "source": [
    "Ejercicios"
   ]
  },
  {
   "cell_type": "code",
   "execution_count": 193,
   "metadata": {},
   "outputs": [
    {
     "name": "stdout",
     "output_type": "stream",
     "text": [
      "[16 60  7 60]\n",
      "[1. 1. 1. 1.]\n",
      "[17. 61.  8. 61.]\n"
     ]
    }
   ],
   "source": [
    "'''\n",
    "Define un array 'a' de tamaño 4 y un array 'b' de tamaño 4 completo de 1s. A contunuación suma los valores de ambos arrays y comprueba que los valores son correctos.\n",
    "'''\n",
    "a = np.random.randint(0,100, size=(4))\n",
    "print(a)\n",
    "b= np.ones((4))\n",
    "print(b)\n",
    "print(a+b)"
   ]
  },
  {
   "cell_type": "code",
   "execution_count": 95,
   "metadata": {},
   "outputs": [
    {
     "name": "stdout",
     "output_type": "stream",
     "text": [
      "a [2 3 4 5]\n",
      "b [1. 1. 1. 1.]\n",
      "[1. 2. 3. 4.]\n"
     ]
    }
   ],
   "source": [
    "'''\n",
    "Define un array 'a' de tamaño 4 y un array 'b' de tamaño 4 completo de 1s.\n",
    "A contunuación resta los valores de ambos arrays y comprueba que los valores son correctos.\n",
    "'''\n",
    "a = np.array([2,3,4,5])\n",
    "b = np.ones((4))\n",
    "print(\"a\", a)\n",
    "print(\"b\", b)\n",
    "\n",
    "print(a-b)"
   ]
  },
  {
   "cell_type": "code",
   "execution_count": 96,
   "metadata": {},
   "outputs": [
    {
     "name": "stdout",
     "output_type": "stream",
     "text": [
      "[4 4 4 4]\n"
     ]
    }
   ],
   "source": [
    "'''\n",
    "Define un array 'a' de tamaño 4 y un array 'b' de tamaño 4 completo de 2s.\n",
    "A contunuación multiplica o divide los valores de ambos arrays y comprueba que los valores son correctos.\n",
    "'''\n",
    "a = np.full((4),2)\n",
    "b = np.full((4),2)\n",
    "print(a*b)"
   ]
  },
  {
   "cell_type": "markdown",
   "metadata": {},
   "source": [
    "### Álgebra lineal"
   ]
  },
  {
   "cell_type": "markdown",
   "metadata": {},
   "source": [
    "numpy py permite realizar operaciones matriciales como por elemplo:\n",
    "- determinante: np.linalg.det()\n",
    "- inversa: np.linalg.inv()\n",
    "- producto matricial: np.dot()\n",
    "- diagonal: np.diag()\n",
    "- inversa de una matriz: np.linalg.inv()\n",
    "\n"
   ]
  },
  {
   "cell_type": "code",
   "execution_count": 197,
   "metadata": {},
   "outputs": [
    {
     "name": "stdout",
     "output_type": "stream",
     "text": [
      "[[9 8 6]\n",
      " [2 0 9]]\n"
     ]
    }
   ],
   "source": [
    "# Definir una matriz 2x3 con valores aleatorios entre 0 y 10\n",
    "a = np.random.randint(0,10, size=(2,3))\n",
    "print(a)\n"
   ]
  },
  {
   "cell_type": "code",
   "execution_count": 198,
   "metadata": {},
   "outputs": [
    {
     "name": "stdout",
     "output_type": "stream",
     "text": [
      "[[7 8]\n",
      " [1 2]\n",
      " [2 7]]\n"
     ]
    }
   ],
   "source": [
    "# Definir una matriz 3x2 con valores aleatorios entre 0 y 10\n",
    "b = np.random.randint(0,10, size=(3,2))\n",
    "print(b)"
   ]
  },
  {
   "cell_type": "markdown",
   "metadata": {},
   "source": [
    "### producto / multiplicación"
   ]
  },
  {
   "cell_type": "markdown",
   "metadata": {},
   "source": [
    "Las operaciones basicas con arrays o matrices son \"element wise\".\n",
    "\n",
    "Esto significa que se aplican a cada elemento de la matriz."
   ]
  },
  {
   "cell_type": "code",
   "execution_count": null,
   "metadata": {},
   "outputs": [],
   "source": [
    "print(a*b) #Esto va dá error porque va a tratar de hacer la operación element wise"
   ]
  },
  {
   "cell_type": "markdown",
   "metadata": {},
   "source": [
    "Operaciones que no son element wise: dot y matmul o también @"
   ]
  },
  {
   "cell_type": "code",
   "execution_count": 200,
   "metadata": {},
   "outputs": [
    {
     "name": "stdout",
     "output_type": "stream",
     "text": [
      "[[ 83 130]\n",
      " [ 32  79]]\n"
     ]
    }
   ],
   "source": [
    "# Para realizar la multiplicación matemática de matrices diferentes shapes:\n",
    "# con la misma cantidad de elementos debemos usar la función 'dot' o 'matmul'\n",
    "# En este caso el primer nº es (9*7 + 8*1 + 6*2).\n",
    "# Daria un error si intentamos multiplicar matricez cuadradas del mismo tamaño\n",
    "\n",
    "producto = np.dot(a,b)\n",
    "print(producto)"
   ]
  },
  {
   "cell_type": "code",
   "execution_count": 201,
   "metadata": {},
   "outputs": [
    {
     "name": "stdout",
     "output_type": "stream",
     "text": [
      "[[ 83 130]\n",
      " [ 32  79]]\n"
     ]
    }
   ],
   "source": [
    "producto1 = np.matmul(a,b)\n",
    "print(producto1)"
   ]
  },
  {
   "cell_type": "code",
   "execution_count": 203,
   "metadata": {},
   "outputs": [
    {
     "name": "stdout",
     "output_type": "stream",
     "text": [
      "[[ 83 130]\n",
      " [ 32  79]]\n"
     ]
    }
   ],
   "source": [
    "producto3 = a @ b\n",
    "print(producto3)"
   ]
  },
  {
   "cell_type": "code",
   "execution_count": null,
   "metadata": {},
   "outputs": [],
   "source": [
    "c = np.random.randint(0,10, size=(3,2))\n",
    "print(c)\n",
    "\n",
    "#Error para imprimir dos matrices cuadradas\n",
    "print(np.dot(b,c))"
   ]
  },
  {
   "cell_type": "markdown",
   "metadata": {},
   "source": [
    "### Determinante de una matriz"
   ]
  },
  {
   "cell_type": "code",
   "execution_count": 211,
   "metadata": {},
   "outputs": [
    {
     "name": "stdout",
     "output_type": "stream",
     "text": [
      "Matriz:\n",
      "[[1. 0. 0.]\n",
      " [0. 1. 0.]\n",
      " [0. 0. 1.]]\n",
      "Determiante:\n",
      "1.0\n"
     ]
    }
   ],
   "source": [
    "print(\"Matriz:\")\n",
    "print(np.identity(3))\n",
    "print(\"Determiante:\")\n",
    "print(np.linalg.det(a))\n"
   ]
  },
  {
   "cell_type": "code",
   "execution_count": 213,
   "metadata": {},
   "outputs": [
    {
     "name": "stdout",
     "output_type": "stream",
     "text": [
      "[[9 5 8]\n",
      " [9 6 6]\n",
      " [5 5 2]]\n",
      "Determiante: 18.000000000000014\n"
     ]
    }
   ],
   "source": [
    "# Define una matriz de 3x3 con valores aleatorios entre 0 y 10\n",
    "b = np.random.randint(0,10,size=(3,3))\n",
    "print(b)\n",
    "\n",
    "# Obtener el determiante de la matriz\n",
    "print('Determiante:', np.linalg.det(b))\n"
   ]
  },
  {
   "cell_type": "markdown",
   "metadata": {},
   "source": [
    "### Matriz inversa"
   ]
  },
  {
   "cell_type": "code",
   "execution_count": 235,
   "metadata": {},
   "outputs": [
    {
     "name": "stdout",
     "output_type": "stream",
     "text": [
      "matriz:\n",
      " [[5 8 7]\n",
      " [4 6 1]\n",
      " [7 6 6]]\n",
      "Matriz inversa:\n",
      "  [[-0.26785714  0.05357143  0.30357143]\n",
      " [ 0.15178571  0.16964286 -0.20535714]\n",
      " [ 0.16071429 -0.23214286  0.01785714]]\n"
     ]
    }
   ],
   "source": [
    "# Matriz inversa\n",
    "\"\"\" La matriz inversa de una matriz es igual a la matriz adjunta de su matriz transpuesta,\n",
    "dividida por su determinante, siempre que este no sea cero\"\"\"\n",
    "\n",
    "\n",
    "\n",
    "# Define una matriz de nº aleatorios entre 0 y 10 de tamaño 3x3\n",
    "# Hashtag Programação\n",
    "from numpy.random import default_rng\n",
    "\n",
    "rng = default_rng()\n",
    "c = rng.integers(9, size = (3,3))\n",
    "print(\"matriz:\\n\", c)\n",
    "\n",
    "\n",
    "\n",
    "#Obtener la matriz inversa\n",
    "inversa = np.linalg.inv(c)\n",
    "print(\"Matriz inversa:\\n \" ,inversa)\n",
    "\n"
   ]
  },
  {
   "cell_type": "markdown",
   "metadata": {},
   "source": [
    "### Matriz transpuesta"
   ]
  },
  {
   "cell_type": "code",
   "execution_count": 238,
   "metadata": {},
   "outputs": [
    {
     "name": "stdout",
     "output_type": "stream",
     "text": [
      "matriz d:\n",
      " [[3 9 3 3 0]\n",
      " [3 3 0 0 7]\n",
      " [4 9 0 5 7]]\n",
      "transpuesta de d:\n",
      " [[3 3 4]\n",
      " [9 3 9]\n",
      " [3 0 0]\n",
      " [3 0 5]\n",
      " [0 7 7]]\n"
     ]
    }
   ],
   "source": [
    "# Matriz transpuesta\n",
    "\"\"\" La matriz transpuesta de una matriz es\n",
    " otra matriz que se obtiene al intercambiar las filas por las columnas\"\"\"\n",
    "\n",
    "#Obtener una matriz aleatoria de 3x5\n",
    "d= np.random.randint(0,10,size=(3,5))\n",
    "print(\"matriz d:\\n\", d)\n",
    "\n",
    "\n",
    "# Obtener la matriz transpuesta\n",
    "print(\"transpuesta de d:\\n\",np.transpose(d))"
   ]
  },
  {
   "cell_type": "markdown",
   "metadata": {},
   "source": [
    "Más tipos de operaciones con arrays:\n",
    "- **np.sum():** Suma de todos los elementos de un array\n",
    "- **np.mean():** Media de todos los elementos de un array\n",
    "- **np.std():** Desviación estándar de todos los elementos de un array\n",
    "- **np.var():** Varianza de todos los elementos de un array\n",
    "- **np.min():** Valor mínimo de todos los elementos de un array\n",
    "- **np.max():** Valor máximo de todos los elementos de un array\n",
    "- **np.argmin():** Indice del valor mínimo de un array\n",
    "- **np.argmax():** Indice del valor máximo de un array\n",
    "- **np.cumsum():** Sumatoria acumulada de un array\n",
    "- **np.cumprod():** Producto acumulado de un array\n",
    "- **np.flip():** Inversa de un array\n"
   ]
  },
  {
   "cell_type": "markdown",
   "metadata": {},
   "source": [
    "### suma"
   ]
  },
  {
   "cell_type": "code",
   "execution_count": 241,
   "metadata": {},
   "outputs": [
    {
     "name": "stdout",
     "output_type": "stream",
     "text": [
      "matrix:\n",
      " [[0 5 8]\n",
      " [4 0 3]\n",
      " [6 4 1]]\n",
      "\n",
      "total: 31\n"
     ]
    }
   ],
   "source": [
    "# Define una matriz de nº aleatorios de 0 y 10 de tamaño 3x3\n",
    "\n",
    "e = np.random.randint(0,10, size = (3,3))\n",
    "print(\"matrix:\\n\", e)\n",
    "\n",
    "# Obtener la suma de todos los elementos de la matriz\n",
    "print(\"\\ntotal:\" ,np.sum(e))\n",
    "\n"
   ]
  },
  {
   "cell_type": "code",
   "execution_count": 255,
   "metadata": {},
   "outputs": [
    {
     "name": "stdout",
     "output_type": "stream",
     "text": [
      "Sumatorio  de cada fila: [13  7 11]\n",
      "Sumatorio  de cada fila: [10  9 12]\n"
     ]
    }
   ],
   "source": [
    "# Obtener el sumatorio de cada fila\n",
    "print(\"Sumatorio  de cada fila:\", np.sum(e,axis=1))\n",
    "\n",
    "# Obtener el sumatorio de cada columna\n",
    "print(\"Sumatorio  de cada fila:\", np.sum(e,axis=0))"
   ]
  },
  {
   "cell_type": "markdown",
   "metadata": {},
   "source": [
    "### mean()\n",
    "media\n"
   ]
  },
  {
   "cell_type": "code",
   "execution_count": 242,
   "metadata": {},
   "outputs": [
    {
     "name": "stdout",
     "output_type": "stream",
     "text": [
      "media 3.4444444444444446\n"
     ]
    }
   ],
   "source": [
    "# Obtener la media de la matriz\n",
    "print(\"media\", np.mean(e))"
   ]
  },
  {
   "cell_type": "markdown",
   "metadata": {},
   "source": [
    "### Maximo y minimo"
   ]
  },
  {
   "cell_type": "code",
   "execution_count": 243,
   "metadata": {},
   "outputs": [
    {
     "name": "stdout",
     "output_type": "stream",
     "text": [
      "maximo: 8\n",
      "maximo: 0\n"
     ]
    }
   ],
   "source": [
    "# Obtener el valor maximo, el elemento mayor de la matriz\n",
    "print(\"maximo:\",np.max(e))\n",
    "# Obtener el valor minimo, el elemento menor de la matriz\n",
    "print(\"maximo:\",np.min(e))\n"
   ]
  },
  {
   "cell_type": "code",
   "execution_count": 246,
   "metadata": {},
   "outputs": [
    {
     "name": "stdout",
     "output_type": "stream",
     "text": [
      "[[0 5 8]\n",
      " [4 0 3]\n",
      " [6 4 1]]\n",
      "maximo de cada fila: [8 4 6]\n",
      "Maximo de cada columnas: [6 5 8]\n"
     ]
    }
   ],
   "source": [
    "print(e)\n",
    "# Obtener el valor maximo de cada fila (axe=1)\n",
    "print(\"maximo de cada fila:\", np.max(e, axis=1))\n",
    "\n",
    "# Obtener el valor maximo de cada columna (axe=2)\n",
    "print(\"Maximo de cada columnas:\" ,np.max(e, axis=0))"
   ]
  },
  {
   "cell_type": "code",
   "execution_count": 254,
   "metadata": {},
   "outputs": [
    {
     "name": "stdout",
     "output_type": "stream",
     "text": [
      "[[0 3]\n",
      " [4 1]]\n",
      "4\n"
     ]
    }
   ],
   "source": [
    "# Obtener un unicoi valor maximo de una porción especifica\n",
    "print(e[1:3,1:3])\n",
    "print(np.max(e[1:3,1:3]))"
   ]
  },
  {
   "cell_type": "markdown",
   "metadata": {},
   "source": [
    "Ejercicios"
   ]
  },
  {
   "cell_type": "code",
   "execution_count": null,
   "metadata": {},
   "outputs": [],
   "source": [
    "import numpy as np"
   ]
  },
  {
   "cell_type": "markdown",
   "metadata": {},
   "source": [
    "mediana\n",
    "https://brasilescola.uol.com.br/matematica/mediana.htm\n",
    "\n",
    "\n"
   ]
  },
  {
   "cell_type": "code",
   "execution_count": null,
   "metadata": {},
   "outputs": [],
   "source": [
    "\"\"\"\n",
    "Si tenemos total (size) de una matriz par, se calcula la media de dos valores centrales en orden crescente. ((a+b)/s):\n",
    "ejemplo:\n",
    "[3][5][6][8]\n",
    "total de valores : 4 (par)\n",
    "mediana = media de los valores centrales: 5+6/2\n",
    "\n",
    "Si es impar el numero total, solo obtener el valor que está en el medio de la lista\n",
    "[3][5][6]\n",
    "total de valores = 3 (impar)\n",
    "mediana = valor central: 5\n",
    "\"\"\""
   ]
  },
  {
   "cell_type": "code",
   "execution_count": 119,
   "metadata": {},
   "outputs": [
    {
     "name": "stdout",
     "output_type": "stream",
     "text": [
      "[[[1 2 2 1]\n",
      "  [2 2 0 2]\n",
      "  [1 1 1 0]\n",
      "  [0 2 1 0]]\n",
      "\n",
      " [[2 0 0 0]\n",
      "  [2 2 0 0]\n",
      "  [0 1 0 1]\n",
      "  [0 0 0 2]]]\n",
      "\n",
      "suma()\n",
      " [[3 2 2 1]\n",
      " [4 4 0 2]\n",
      " [1 2 1 1]\n",
      " [0 2 1 2]]\n",
      "\n",
      "np.suma() 28\n",
      "p.size: 32\n",
      "mediana 1.0\n"
     ]
    }
   ],
   "source": [
    "'''\n",
    "Calcula la mediana de un array\n",
    "'''\n",
    "p = np.random.randint(3, size=(2,4,4))\n",
    "print(p)\n",
    "print(\"\\nsuma()\\n\",sum(p))\n",
    "print(\"\\nnp.suma()\",np.sum(p))\n",
    "print(\"p.size:\", p.size)\n",
    "\n",
    "print(\"mediana\", np.median(p))\n"
   ]
  },
  {
   "cell_type": "code",
   "execution_count": 117,
   "metadata": {},
   "outputs": [
    {
     "name": "stdout",
     "output_type": "stream",
     "text": [
      "media  0.9375\n",
      "\n",
      "mean() 0.9375\n"
     ]
    }
   ],
   "source": [
    "'''\n",
    "calcula la media de una matriz\n",
    "'''\n",
    "print(\"media \",(np.sum(p))/p.size)\n",
    "print(\"\\nmean()\",np.mean(p))"
   ]
  },
  {
   "cell_type": "markdown",
   "metadata": {},
   "source": [
    "### Reshape"
   ]
  },
  {
   "cell_type": "code",
   "execution_count": 260,
   "metadata": {},
   "outputs": [
    {
     "name": "stdout",
     "output_type": "stream",
     "text": [
      "[[1 5 0]\n",
      " [2 7 3]\n",
      " [3 0 2]\n",
      " [1 6 6]]\n"
     ]
    }
   ],
   "source": [
    "# Va a coger una array de la dimension que sea y nos va a conformar con otro shape diferente\n",
    "\n",
    "z = np.random.randint(0,10, size=(4,3))\n",
    "print(z)"
   ]
  },
  {
   "cell_type": "code",
   "execution_count": 263,
   "metadata": {},
   "outputs": [
    {
     "name": "stdout",
     "output_type": "stream",
     "text": [
      "[[1 5]\n",
      " [0 2]\n",
      " [7 3]\n",
      " [3 0]\n",
      " [2 1]\n",
      " [6 6]]\n"
     ]
    }
   ],
   "source": [
    "z2 = z.reshape(6,2)\n",
    "print(z2)"
   ]
  },
  {
   "cell_type": "markdown",
   "metadata": {},
   "source": [
    "### Ejemplo practico para reshape"
   ]
  },
  {
   "cell_type": "code",
   "execution_count": 278,
   "metadata": {},
   "outputs": [
    {
     "name": "stdout",
     "output_type": "stream",
     "text": [
      "size: 15 \n",
      "\n",
      "[[ 1  2  3  4  5]\n",
      " [ 6  7  8  9 10]\n",
      " [20 22 23 24 25]]\n",
      "\n",
      "otra manera con 3 dimensiones\n",
      " [[[ 1  2  3  4  5]]\n",
      "\n",
      " [[ 6  7  8  9 10]]\n",
      "\n",
      " [[20 22 23 24 25]]]\n"
     ]
    }
   ],
   "source": [
    "\"\"\" Tengo un array de una linea y quiero transformar en una matriz\"\"\"\n",
    "\n",
    "array_z = np.array([1,2,3,4,5,6,7,8,9,10,20,22,23,24,25])\n",
    "print(\"size:\",np.size(array_z), \"\\n\")\n",
    "print(array_z.reshape(3,5))\n",
    "print(\"\\notra manera con 3 dimensiones\\n\", array_z.reshape(3,1,5))\n",
    "\n"
   ]
  }
 ],
 "metadata": {
  "kernelspec": {
   "display_name": "Python 3.10.8 64-bit (microsoft store)",
   "language": "python",
   "name": "python3"
  },
  "language_info": {
   "codemirror_mode": {
    "name": "ipython",
    "version": 3
   },
   "file_extension": ".py",
   "mimetype": "text/x-python",
   "name": "python",
   "nbconvert_exporter": "python",
   "pygments_lexer": "ipython3",
   "version": "3.10.8"
  },
  "vscode": {
   "interpreter": {
    "hash": "933220bd3bd0d4c221f7ea232c9212ab8fb8a722fe1db461ffd591306e340b7e"
   }
  }
 },
 "nbformat": 4,
 "nbformat_minor": 2
}
